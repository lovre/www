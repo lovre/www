{
  "cells": [
    {
      "cell_type": "markdown",
      "metadata": {
        "collapsed": false,
        "id": "8SKJOlrQ0Ufy"
      },
      "source": [
        "###### Introduction to Network Analysis 2023/24 (ii)\n",
        "\n",
        "## Network representations, basic network algorithms\n",
        "\n",
        "You are given four networks in Pajek format that was presented in lectures.\n",
        "\n",
        "+ Tiny toy network for testing ([toy.net](http://lovro.fri.uni-lj.si/ina/nets/toy.net))\n",
        "+ Zachary karate club network ([karate_club.net](http://lovro.fri.uni-lj.si/ina/nets/karate_club.net))\n",
        "+ IMDb actors collaboration network ([collaboration_imdb.net](http://lovro.fri.uni-lj.si/ina/nets/collaboration_imdb.net))\n",
        "+ A small part of Google web graph ([www_google.net](http://lovro.fri.uni-lj.si/ina/nets/www_google.net))"
      ]
    },
    {
      "cell_type": "markdown",
      "metadata": {
        "collapsed": false,
        "id": "7t1UTRhT0Uf0"
      },
      "source": [
        "### II. Basic network statistics"
      ]
    },
    {
      "cell_type": "markdown",
      "metadata": {
        "collapsed": false,
        "id": "o3BR21qQ0Uf1"
      },
      "source": [
        "1. **(code)** Compute basic statistics of all four networks. Namely, the number of nodes $n$ and links $m$, the average node degree $\\langle k\\rangle=2m/n$ and the undirected density $\\rho=m/{n\\choose 2}$. Are the results expected?"
      ]
    },
    {
      "cell_type": "markdown",
      "metadata": {
        "collapsed": false,
        "id": "xPUJo4_A0Uf1"
      },
      "source": [
        "In a graph theory context, density is a measure that shows how close a graph is to being a complete graph. For an undirected graph, the density is defined as the ratio of the number of edges m to the number of possible edges. For a simple undirected graph with n vertices, the number of possible edges is ${n\\choose 2} = \\frac{n*(n-1)}{2}$, which makes the formula for density become:\n",
        "$\\rho=m/{n\\choose 2}$\n",
        "\n",
        "However, for large values of n, the binomial coefficient ${n\\choose 2}=\\frac{n*(n-1)}{2}$ can cause overflow issues.\n",
        "\n",
        "To avoid this, we can rewrite the formula to avoid calculating the binomial coefficient directly:\n",
        "$\\rho=m/{n\\choose 2} = \\frac{m}{n*(n-1)/2} = 2m/n/(n-1)$"
      ]
    },
    {
      "cell_type": "markdown",
      "metadata": {
        "collapsed": false,
        "id": "FcI6Dhn-0Uf2"
      },
      "source": [
        "#### 1. Solution with its own implementation"
      ]
    },
    {
      "cell_type": "code",
      "execution_count": 1,
      "metadata": {
        "ExecuteTime": {
          "end_time": "2023-05-26T17:57:25.043735Z",
          "start_time": "2023-05-26T17:57:20.456650Z"
        },
        "colab": {
          "base_uri": "https://localhost:8080/"
        },
        "id": "dTYL6kgV0Uf2",
        "outputId": "c44278e5-14d5-41f7-c2f3-8b83f14e4453"
      },
      "outputs": [
        {
          "output_type": "stream",
          "name": "stdout",
          "text": [
            "     Graph | 'toy'\n",
            "     Nodes | 5\n",
            "     Edges | 4\n",
            "    Degree | 1.60\n",
            "   Density | 4.00e-01\n",
            "\n",
            "     Graph | 'karate_club'\n",
            "     Nodes | 34\n",
            "     Edges | 78\n",
            "    Degree | 4.59\n",
            "   Density | 1.39e-01\n",
            "\n",
            "     Graph | 'collaboration_imdb'\n",
            "     Nodes | 17,577\n",
            "     Edges | 287,074\n",
            "    Degree | 32.66\n",
            "   Density | 1.86e-03\n",
            "\n",
            "     Graph | 'www_google'\n",
            "     Nodes | 875,713\n",
            "     Edges | 5,105,039\n",
            "    Degree | 11.66\n",
            "   Density | 1.33e-05\n",
            "\n"
          ]
        }
      ],
      "source": [
        "# Iterate over a list of graph names\n",
        "for name in [\"toy\", \"karate_club\", \"collaboration_imdb\", \"www_google\"]:\n",
        "    # Initialize the graph (G), number of nodes (n), and number of edges (m) for each graph\n",
        "    G, n, m = None, 0, 0\n",
        "\n",
        "    # Open the corresponding '.net' file for each graph\n",
        "    with open(\"./networks/\" + name + \".net\", 'r') as file:\n",
        "        # Extract the number of nodes from the first line of the file and initialize the graph (G) as a list of empty lists\n",
        "        n = int(file.readline().split()[1])\n",
        "        G = [[] for _ in range(n)]\n",
        "\n",
        "        # Skip the part of the file that contains node information, stopping when reaching the line starting with \"*\"\n",
        "        for line in file:\n",
        "            if line.startswith(\"*\"):\n",
        "                break\n",
        "\n",
        "        # Initialize edge counter (m) to zero\n",
        "        m = 0\n",
        "        # Process the rest of the file, which contains edges information\n",
        "        for line in file:\n",
        "            # Convert the first two fields in each line to integers (adjusting for 1-indexing), representing a pair of nodes with an edge between them\n",
        "            i, j = (int(x) - 1 for x in line.split()[:2])\n",
        "            # Add the nodes to each other's adjacency list in the graph, and increment the edge counter\n",
        "            G[i].append(j)\n",
        "            G[j].append(i)\n",
        "            m += 1\n",
        "\n",
        "    # Print statistics about the graph: name, number of nodes, number of edges, average degree, and density\n",
        "    print(\"{:>10s} | '{:s}'\".format('Graph', name))\n",
        "    print(\"{:>10s} | {:,d}\".format('Nodes', n))\n",
        "    print(\"{:>10s} | {:,d}\".format('Edges', m))\n",
        "    print(\"{:>10s} | {:.2f}\".format('Degree', 2 * m / n))\n",
        "    print(\"{:>10s} | {:.2e}\".format('Density', 2 * m / n / (n - 1)))\n",
        "    print()"
      ]
    },
    {
      "cell_type": "markdown",
      "metadata": {
        "collapsed": false,
        "id": "pPQU6ldh0Uf3"
      },
      "source": [
        "#### 1. Solution using NetworkX"
      ]
    },
    {
      "cell_type": "code",
      "execution_count": 2,
      "metadata": {
        "ExecuteTime": {
          "end_time": "2023-05-26T17:59:03.273949Z",
          "start_time": "2023-05-26T17:57:25.045661Z"
        },
        "colab": {
          "base_uri": "https://localhost:8080/"
        },
        "id": "lQFGB12Q0Uf4",
        "outputId": "56a26c21-4a92-4f8a-fe36-e837a74e358f"
      },
      "outputs": [
        {
          "output_type": "stream",
          "name": "stdout",
          "text": [
            "For network toy: {'Number of Nodes': 5, 'Number of Edges': 4, 'Average Degree': 1.6, 'Density': 0.4}\n",
            "For network karate_club: {'Number of Nodes': 34, 'Number of Edges': 78, 'Average Degree': 4.588235294117647, 'Density': 0.13903743315508021}\n",
            "For network collaboration_imdb: {'Number of Nodes': 17577, 'Number of Edges': 287074, 'Average Degree': 32.6647323206463, 'Density': 0.0018584849977609412}\n",
            "For network www_google: {'Number of Nodes': 875713, 'Number of Edges': 5105039, 'Average Degree': 11.659160021605253, 'Density': 1.3313920583028727e-05}\n"
          ]
        }
      ],
      "source": [
        "import networkx as nx\n",
        "\n",
        "def compute_network_statistics(file_url):\n",
        "    # The function nx.read_pajek reads the Pajek format file and creates a NetworkX\n",
        "    # graph from it. The graph is assigned to G.\n",
        "    G = nx.read_pajek(file_url)\n",
        "\n",
        "    # Get the number of nodes in the graph.\n",
        "    n = G.number_of_nodes()\n",
        "    # Get the number of edges in the graph.\n",
        "    m = G.number_of_edges()\n",
        "    avg_k = 2 * m / n\n",
        "    density = 2 * m / n / (n - 1)\n",
        "\n",
        "    return {\n",
        "        'Number of Nodes': n,\n",
        "        'Number of Edges': m,\n",
        "        'Average Degree': avg_k,\n",
        "        'Density': density\n",
        "    }\n",
        "\n",
        "for name in [\"toy\", \"karate_club\", \"collaboration_imdb\", \"www_google\"]:\n",
        "    stats = compute_network_statistics(\"./networks/\" + name + \".net\")\n",
        "    print(f\"For network {name}: {stats}\")"
      ]
    },
    {
      "cell_type": "markdown",
      "metadata": {
        "collapsed": false,
        "id": "4ZCldRwC0Uf5"
      },
      "source": [
        "| Graph              | Nodes    | Edges      | Degree | Density   |\n",
        "|--------------------|----------|------------|--------|-----------|\n",
        "| toy                | 5        | 4          | 1.60   | 4.00e-01  |\n",
        "| karate_club        | 34       | 38         | 4.59   | 1.39e-01  |\n",
        "| collaboration_imdb | 17,577   | 287,074    | 32.66  | 1.86e-03  |\n",
        "| www_google         | 875,713  | 5,105,039  | 11.66  | 1.33e-05  |\n",
        "\n",
        "<br>\n",
        "\n",
        "**Toy network**: This is a very small network. The average degree and density seem consistent for such a small network.\n",
        "\n",
        "\n",
        "**Zachary Karate Club**: This is a well-known social network of a karate club, where each node corresponds to a member of the club, and each edge represents a tie between two members of the club. The average degree is around 4.59, which makes sense considering that it's a social network.\n",
        "\n",
        "\n",
        "**IMDb actors collaboration network**: This is a much larger network, as it represents collaborations between actors on IMDb. The average degree is 32.66, suggesting that each actor has collaborated with an average of 32 other actors. Given the collaborative nature of the film industry, this seems plausible.\n",
        "\n",
        "\n",
        "**Google web graph**: This represents a portion of the Google web graph, with nodes representing webpages and edges representing hyperlinks. The average degree is 11.66, suggesting that each webpage links to an average of around 11 other pages. Considering the vast and interconnected nature of the web, this also seems reasonable. The density is extremely low, reflecting the sparse connectivity of the World Wide Web."
      ]
    },
    {
      "cell_type": "markdown",
      "metadata": {
        "collapsed": false,
        "id": "eTC-fRub0Uf5"
      },
      "source": [
        "2. **(code)** Compute the number of isolated nodes and the number of pendant nodes (i.e. degree-$1$ nodes), and the maximum node degree $k_{\\rm max}$. How do the values of $k_{\\rm max}$ compare to $\\langle k\\rangle$?"
      ]
    },
    {
      "cell_type": "markdown",
      "metadata": {
        "collapsed": false,
        "id": "DTcYlflh0Uf5"
      },
      "source": [
        "#### 1. Solution with its own implementation"
      ]
    },
    {
      "cell_type": "code",
      "execution_count": 3,
      "metadata": {
        "ExecuteTime": {
          "end_time": "2023-05-26T17:59:07.913034Z",
          "start_time": "2023-05-26T17:59:03.510443Z"
        },
        "colab": {
          "base_uri": "https://localhost:8080/"
        },
        "id": "twBuyZsk0Uf6",
        "outputId": "ad8c5aa6-2e2d-4914-a708-3fcd1139c880"
      },
      "outputs": [
        {
          "output_type": "stream",
          "name": "stdout",
          "text": [
            "               Graph | 'toy'\n",
            "               Nodes | 5\n",
            "      Isolated nodes | 1\n",
            "       Pendant nodes | 1\n",
            "               Edges | 4\n",
            "              Degree | 1.60\n",
            "     Max node degree | 3.00\n",
            "             Density | 4.00e-01\n",
            "\n",
            "               Graph | 'karate_club'\n",
            "               Nodes | 34\n",
            "      Isolated nodes | 0\n",
            "       Pendant nodes | 1\n",
            "               Edges | 78\n",
            "              Degree | 4.59\n",
            "     Max node degree | 17.00\n",
            "             Density | 1.39e-01\n",
            "\n",
            "               Graph | 'collaboration_imdb'\n",
            "               Nodes | 17,577\n",
            "      Isolated nodes | 0\n",
            "       Pendant nodes | 475\n",
            "               Edges | 287,074\n",
            "              Degree | 32.66\n",
            "     Max node degree | 784.00\n",
            "             Density | 1.86e-03\n",
            "\n",
            "               Graph | 'www_google'\n",
            "               Nodes | 875,713\n",
            "      Isolated nodes | 0\n",
            "       Pendant nodes | 130,912\n",
            "               Edges | 5,105,039\n",
            "              Degree | 11.66\n",
            "     Max node degree | 6353.00\n",
            "             Density | 1.33e-05\n",
            "\n"
          ]
        }
      ],
      "source": [
        "# This function checks if a node is isolated in a graph.\n",
        "# A node is considered isolated if it has no neighbors, i.e., it's not connected to any other nodes.\n",
        "def isolated(G, i):\n",
        "    for j in G[i]:\n",
        "        if j != i:\n",
        "            return False\n",
        "    return True\n",
        "\n",
        "for name in [\"toy\", \"karate_club\", \"collaboration_imdb\", \"www_google\"]:\n",
        "    G, n, m = None, 0, 0\n",
        "\n",
        "    with open(\"./networks/\" + name + \".net\", 'r') as file:\n",
        "        n = int(file.readline().split()[1])\n",
        "        G = [[] for _ in range(n)]\n",
        "\n",
        "        for line in file:\n",
        "            if line.startswith(\"*\"):\n",
        "                break\n",
        "\n",
        "        m = 0\n",
        "        for line in file:\n",
        "            i, j = (int(x) - 1 for x in line.split()[:2])\n",
        "            G[i].append(j)\n",
        "            G[j].append(i)\n",
        "            m += 1\n",
        "\n",
        "    isolated_nodes, pendant_nodes, max_node_degree = 0, 0, 0\n",
        "    # Calculate the degree of each node (i.e., the number of its neighbors).\n",
        "    for i in range(n):\n",
        "        if isolated(G, i):\n",
        "            isolated_nodes += 1\n",
        "        elif len(G[i]) == 1:\n",
        "            pendant_nodes += 1\n",
        "        if len(G[i]) > max_node_degree:\n",
        "            max_node_degree = len(G[i])\n",
        "\n",
        "    print(\"{:>20s} | '{:s}'\".format('Graph', name))\n",
        "    print(\"{:>20s} | {:,d}\".format('Nodes', n))\n",
        "    print(\"{:>20s} | {:,d}\".format('Isolated nodes', isolated_nodes))\n",
        "    print(\"{:>20s} | {:,d}\".format('Pendant nodes', pendant_nodes))\n",
        "    print(\"{:>20s} | {:,d}\".format('Edges', m))\n",
        "    print(\"{:>20s} | {:.2f}\".format('Degree', 2 * m / n))\n",
        "    print(\"{:>20s} | {:.2f}\".format('Max node degree', max_node_degree))\n",
        "    print(\"{:>20s} | {:.2e}\".format('Density', 2 * m / n / (n - 1)))\n",
        "    print()"
      ]
    },
    {
      "cell_type": "markdown",
      "metadata": {
        "collapsed": false,
        "id": "wl367XvT0Uf6"
      },
      "source": [
        "#### 1. Solution using NetworkX"
      ]
    },
    {
      "cell_type": "code",
      "execution_count": 4,
      "metadata": {
        "ExecuteTime": {
          "end_time": "2023-05-26T18:00:54.912499Z",
          "start_time": "2023-05-26T17:59:07.913822Z"
        },
        "colab": {
          "base_uri": "https://localhost:8080/"
        },
        "id": "pdXCQ2-u0Uf7",
        "outputId": "4bfdf559-35b2-4059-fd66-0f33f566b13d"
      },
      "outputs": [
        {
          "output_type": "stream",
          "name": "stdout",
          "text": [
            "For network toy: {'Number of Isolated Nodes': 1, 'Number of Pendant Nodes': 1, 'Maximum Degree': 3}\n",
            "For network karate_club: {'Number of Isolated Nodes': 0, 'Number of Pendant Nodes': 1, 'Maximum Degree': 17}\n",
            "For network collaboration_imdb: {'Number of Isolated Nodes': 0, 'Number of Pendant Nodes': 475, 'Maximum Degree': 784}\n",
            "For network www_google: {'Number of Isolated Nodes': 0, 'Number of Pendant Nodes': 130912, 'Maximum Degree': 6353}\n"
          ]
        }
      ],
      "source": [
        "def compute_additional_statistics(file_url):\n",
        "    G = nx.read_pajek(file_url)\n",
        "\n",
        "    degrees = dict(G.degree())\n",
        "    max_k = max(degrees.values())\n",
        "    isolated_nodes = len(list(nx.isolates(G)))\n",
        "    pendant_nodes = list(degrees.values()).count(1)  # nodes with degree 1\n",
        "\n",
        "    return {\n",
        "        'Number of Isolated Nodes': isolated_nodes,\n",
        "        'Number of Pendant Nodes': pendant_nodes,\n",
        "        'Maximum Degree': max_k\n",
        "    }\n",
        "\n",
        "for name in [\"toy\", \"karate_club\", \"collaboration_imdb\", \"www_google\"]:\n",
        "    stats = compute_additional_statistics(\"./networks/\" + name + \".net\")\n",
        "    print(f\"For network {name}: {stats}\")\n"
      ]
    },
    {
      "cell_type": "markdown",
      "metadata": {
        "collapsed": false,
        "id": "bkDgILkm0Uf7"
      },
      "source": [
        "| Graph              | Isolated nodes | Pendant Nodes | Maximum degree |\n",
        "|--------------------|----------------|---------------|----------------|\n",
        "| toy                | 1              | 1             | 3              |\n",
        "| karate_club        | 0              | 1             | 17             |\n",
        "| collaboration_imdb | 0              | 475           | 784            |\n",
        "| www_google         | 0              | 130,912       | 6,353          |\n",
        "\n",
        "<br>\n",
        "\n",
        "By comparing $k_{\\rm max}$ to $\\langle k\\rangle$, we can get a sense of the heterogeneity of the graph's connectivity. If $k_{\\rm max}$ is much larger than $\\langle k\\rangle$, this indicates that the graph has a few nodes that are much more interconnected than average, which can be characteristic of scale-free networks.\n",
        "\n",
        "The number of isolated nodes is an indicator of how many nodes have no connections at all. Interestingly, only the 'toy' graph has an isolated node. Similarly, pendant nodes are those connected to only one other node.\n",
        "\n",
        "Lastly, the density is a measure of the proportion of possible connections that are actually present in the graph. This value is typically very small for large graphs, because the number of possible connections grows quadratically with the number of nodes, but most real-world graphs are sparse and have far fewer connections.\n",
        "\n",
        "**NOTE**: Isolated node can either have no links or one link, which connects into itself!"
      ]
    },
    {
      "cell_type": "markdown",
      "metadata": {
        "collapsed": false,
        "id": "GLOlkKHK0Uf8"
      },
      "source": [
        "3. **(discuss)** What is the time complexity of the computations above?"
      ]
    },
    {
      "cell_type": "markdown",
      "metadata": {
        "collapsed": false,
        "id": "JqIzpR-U0Uf8"
      },
      "source": [
        "Time complexity of the above computations is either **constant** (O(1)) or **linear** (O(n))."
      ]
    },
    {
      "cell_type": "code",
      "source": [],
      "metadata": {
        "id": "PTQZAqy5SZ-J"
      },
      "execution_count": null,
      "outputs": []
    }
  ],
  "metadata": {
    "kernelspec": {
      "display_name": "Python 3",
      "language": "python",
      "name": "python3"
    },
    "language_info": {
      "codemirror_mode": {
        "name": "ipython",
        "version": 2
      },
      "file_extension": ".py",
      "mimetype": "text/x-python",
      "name": "python",
      "nbconvert_exporter": "python",
      "pygments_lexer": "ipython2",
      "version": "2.7.6"
    },
    "colab": {
      "provenance": []
    }
  },
  "nbformat": 4,
  "nbformat_minor": 0
}