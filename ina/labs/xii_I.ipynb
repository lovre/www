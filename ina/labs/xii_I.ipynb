{
  "cells": [
    {
      "cell_type": "markdown",
      "id": "3c19a73f",
      "metadata": {
        "id": "3c19a73f"
      },
      "source": [
        "###### Introduction to Network Analysis 2023/24 (xii)\n",
        "\n",
        "## Random-walk sampling, network comparison"
      ]
    },
    {
      "cell_type": "markdown",
      "id": "4e7786d9",
      "metadata": {
        "id": "4e7786d9"
      },
      "source": [
        "### I. Estimation by random-walk sampling\n",
        "\n",
        "You are given five networks in Pajek format.\n",
        "\n",
        "+ Java class dependency network ([java.net](http://lovro.fri.uni-lj.si/ina/nets/java.net))\n",
        "+ *nec* overlay map of the Internet ([nec.net](http://lovro.fri.uni-lj.si/ina/nets/nec.net))\n",
        "+ Sample of Facebook social network ([facebook.net](http://lovro.fri.uni-lj.si/ina/nets/facebook.net))\n",
        "+ Enron e-mail communication network ([enron.net](http://lovro.fri.uni-lj.si/ina/nets/enron.net))\n",
        "+ A small part of Google web graph ([www_google.net](http://lovro.fri.uni-lj.si/ina/nets/www_google.net))\n",
        "\n"
      ]
    },
    {
      "cell_type": "markdown",
      "id": "a05effe8",
      "metadata": {
        "id": "a05effe8"
      },
      "source": [
        "1. **(code)** Represent the networks with simple undirected graphs and reduce them to their largest connected component.\n",
        "\n"
      ]
    },
    {
      "cell_type": "code",
      "execution_count": null,
      "id": "ddaf4b7d",
      "metadata": {
        "id": "ddaf4b7d"
      },
      "outputs": [],
      "source": [
        "# your code here"
      ]
    },
    {
      "cell_type": "markdown",
      "id": "07b12982",
      "metadata": {
        "id": "07b12982"
      },
      "source": [
        "2. **(code)** Implement a random-walk sampling and apply it to the networks until you sample 15% of the nodes (with repetitions). Let $s$ be the number of sampled nodes and $k_1,\\dots,k_s$ their degree sequence. Estimate the average degree of the network $\\langle k\\rangle$ using a biased average $$\\frac{\\sum_ik_i}{s}$$ and also the corrected estimate $$\\frac{s}{\\sum_ik_i^{-1}}.$$\n",
        "\n"
      ]
    },
    {
      "cell_type": "code",
      "execution_count": null,
      "id": "ddb21102",
      "metadata": {
        "id": "ddb21102"
      },
      "outputs": [],
      "source": [
        "# your code here"
      ]
    },
    {
      "cell_type": "markdown",
      "id": "7ed7f5e3",
      "metadata": {
        "id": "7ed7f5e3"
      },
      "source": [
        "3. **(discuss)** Compare both estimates to the true average degree $\\langle k\\rangle$."
      ]
    }
  ],
  "metadata": {
    "colab": {
      "provenance": []
    }
  },
  "nbformat": 4,
  "nbformat_minor": 5
}