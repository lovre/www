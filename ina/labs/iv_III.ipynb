{
  "cells": [
    {
      "cell_type": "markdown",
      "id": "6e54975c",
      "metadata": {
        "id": "6e54975c"
      },
      "source": [
        "###### Introduction to Network Analysis 2023/24 (iv)\n",
        "\n",
        "## Small-world and scale-free models, graphs vs networks\n",
        "\n",
        "You are given six networks in Pajek format.\n",
        "\n",
        "+ Zachary karate club network ([karate_club.net](http://lovro.fri.uni-lj.si/ina/nets/karate_club.net))\n",
        "+ Map of Darknet from Tor network ([darknet.net](http://lovro.fri.uni-lj.si/ina/nets/darknet.net))\n",
        "+ IMDb actors collaboration network ([collaboration_imdb.net](http://lovro.fri.uni-lj.si/ina/nets/collaboration_imdb.net))\n",
        "+ WikiLeaks cable reference network ([wikileaks.net](http://lovro.fri.uni-lj.si/ina/nets/wikileaks.net))\n",
        "+ Enron e-mail communication network ([enron.net](http://lovro.fri.uni-lj.si/ina/nets/enron.net))\n",
        "+ A small part of Google web graph ([www_google.net](http://lovro.fri.uni-lj.si/ina/nets/www_google.net))"
      ]
    },
    {
      "cell_type": "markdown",
      "id": "01b8068f",
      "metadata": {
        "id": "01b8068f"
      },
      "source": [
        "### III. Synthetic random graphs vs real networks\n",
        "\n",
        "Consider different large-scale properties of real networks. Namely, low average node degree $\\langle k\\rangle\\ll n$, one giant connected component $S\\approx 1$, short distances between the nodes $\\langle d\\rangle\\approx\\frac{\\ln n}{\\ln\\langle k\\rangle}$, high average node clustering coefficient $\\langle C\\rangle\\gg 0$, power-law degree distribution $p_k\\sim k^{-\\gamma}$, pronounced community structure etc.\n",
        "\n"
      ]
    },
    {
      "cell_type": "markdown",
      "id": "23d19ad8",
      "metadata": {
        "id": "23d19ad8"
      },
      "source": [
        "1. **(discuss)** Design synthetic graph model that generates undirected graphs that are _most different_ from real networks.\n",
        "\n"
      ]
    },
    {
      "cell_type": "markdown",
      "id": "70dd7a47",
      "metadata": {
        "id": "70dd7a47"
      },
      "source": [
        "2. **(code)** Implement generative graph model that _well reproduces_ the structure of real undirected networks.\n",
        "\n"
      ]
    },
    {
      "cell_type": "code",
      "execution_count": null,
      "id": "b59287c5",
      "metadata": {
        "id": "b59287c5"
      },
      "outputs": [],
      "source": [
        "# your code here"
      ]
    },
    {
      "cell_type": "markdown",
      "id": "bec21feb",
      "metadata": {
        "id": "bec21feb"
      },
      "source": [
        "3. **(discuss)** Does your model have reasonable interpretation or explanation? Does it also reproduce the structure of real directed networks?"
      ]
    }
  ],
  "metadata": {
    "colab": {
      "provenance": []
    }
  },
  "nbformat": 4,
  "nbformat_minor": 5
}