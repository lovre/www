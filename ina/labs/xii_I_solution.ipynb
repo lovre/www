{
  "cells": [
    {
      "cell_type": "markdown",
      "id": "e08ea06f",
      "metadata": {
        "id": "e08ea06f"
      },
      "source": [
        "###### Introduction to Network Analysis 2023/24 (xii)\n",
        "\n",
        "## Random-walk sampling, network comparison"
      ]
    },
    {
      "cell_type": "markdown",
      "id": "4f079117",
      "metadata": {
        "id": "4f079117"
      },
      "source": [
        "### I. Estimation by random-walk sampling\n",
        "\n",
        "You are given five networks in Pajek format.\n",
        "\n",
        "+ Java class dependency network ([java.net](http://lovro.fri.uni-lj.si/ina/nets/java.net))\n",
        "+ *nec* overlay map of the Internet ([nec.net](http://lovro.fri.uni-lj.si/ina/nets/nec.net))\n",
        "+ Sample of Facebook social network ([facebook.net](http://lovro.fri.uni-lj.si/ina/nets/facebook.net))\n",
        "+ Enron e-mail communication network ([enron.net](http://lovro.fri.uni-lj.si/ina/nets/enron.net))\n",
        "+ A small part of Google web graph ([www_google.net](http://lovro.fri.uni-lj.si/ina/nets/www_google.net))\n",
        "\n"
      ]
    },
    {
      "cell_type": "markdown",
      "id": "f73a6850",
      "metadata": {
        "id": "f73a6850"
      },
      "source": [
        "1. **(code)** Represent the networks with simple undirected graphs and reduce them to their largest connected component.\n",
        "\n"
      ]
    },
    {
      "cell_type": "code",
      "execution_count": null,
      "id": "4b874b64",
      "metadata": {
        "id": "4b874b64",
        "outputId": "b8694793-9b61-490d-d981-30a351948909"
      },
      "outputs": [
        {
          "name": "stderr",
          "output_type": "stream",
          "text": [
            "reading networks: 100%|██████████| 5/5 [01:25<00:00, 17.12s/it]\n"
          ]
        }
      ],
      "source": [
        "from tqdm import tqdm\n",
        "import networkx as nx\n",
        "import utils\n",
        "\n",
        "\n",
        "NET_NAMES = \"cdn_java nec facebook enron www_google\".split()\n",
        "\n",
        "def LCC(G: nx.Graph) -> nx.Graph:\n",
        "    lcc = max(nx.connected_components(G), key=len)\n",
        "    return nx.convert_node_labels_to_integers(G.subgraph(lcc))\n",
        "\n",
        "graphs = {name: LCC(nx.Graph(utils.read_pajek(name)))\n",
        "          for name in tqdm(NET_NAMES, desc=\"reading networks\")}"
      ]
    },
    {
      "cell_type": "markdown",
      "id": "28685ecb",
      "metadata": {
        "id": "28685ecb"
      },
      "source": [
        "2. **(code)** Implement a random-walk sampling and apply it to the networks until you sample 15% of the nodes (with repetitions). Let $s$ be the number of sampled nodes and $k_1,\\dots,k_s$ their degree sequence. Estimate the average degree of the network $\\langle k\\rangle$ using a biased average $$\\frac{\\sum_ik_i}{s}$$ and also the corrected estimate $$\\frac{s}{\\sum_ik_i^{-1}}.$$\n",
        "\n"
      ]
    },
    {
      "cell_type": "code",
      "execution_count": null,
      "id": "4e0b22f5",
      "metadata": {
        "id": "4e0b22f5"
      },
      "outputs": [],
      "source": [
        "import random\n",
        "from typing import Tuple\n",
        "\n",
        "def sample_degree_avg(G: nx.Graph, node_percent=15) -> Tuple[float, float]:\n",
        "    \"\"\"returns tuple (biased avg., corrected avg.)\"\"\"\n",
        "    assert 0 <= node_percent <= 100\n",
        "\n",
        "    # random sampling optimization\n",
        "    # (so we don't need to convert neighborhood generator to list every time)\n",
        "    adj_list = [list(G[i]) for i in G.nodes]\n",
        "\n",
        "    s = round(len(G) * node_percent / 100)\n",
        "\n",
        "    walker = random.randint(0, len(G) - 1)\n",
        "    visited = {walker}\n",
        "    degree_sum = G.degree(walker)\n",
        "    reciprocal_degree_sum = 1 / G.degree(walker)\n",
        "\n",
        "    while len(visited) < s:\n",
        "        walker = random.choice(adj_list[walker])\n",
        "        degree_sum += G.degree(walker)\n",
        "        reciprocal_degree_sum += 1 / G.degree(walker)\n",
        "        visited.add(walker)\n",
        "\n",
        "    return (degree_sum/s, s/reciprocal_degree_sum)\n",
        "\n",
        "\n",
        "# TODO: for better results get the 15% from *several* runs\n",
        "#       (eg. run from 5 starting points until you have disjoint 3% samples)\n",
        "\n",
        "for name, G in graphs.items():\n",
        "    biased, corrected = sample_degree_avg(G)\n",
        "    print(f\"{name:<15}{biased:.3f}\\t\\t{corrected:.3f}\")"
      ]
    },
    {
      "cell_type": "markdown",
      "id": "20283fc8",
      "metadata": {
        "id": "20283fc8"
      },
      "source": [
        "| net   | $\\langle k\\rangle$   | biased  | corrected | k<sub>max</sub> |\n",
        "|-------|---------|---------|------|-----------------|\n",
        "| java  | 12.3    | 521.2   | 11.8 | 2166            |\n",
        "| nec   | 9.42    | 1243.1  | 9.1  | 13346           |\n",
        "| fb    | 25.77   | 89.6    | 28.1 | 1098            |\n",
        "| enron | 7.05    | 169.0   | 7.7  | 1728            |\n",
        "| www   | 10.03   | 165.9   | 9.6  | 6332            |\n"
      ]
    },
    {
      "cell_type": "markdown",
      "id": "64670f47",
      "metadata": {
        "id": "64670f47"
      },
      "source": [
        "3. **(discuss)** Compare both estimates to the true average degree $\\langle k\\rangle$."
      ]
    },
    {
      "cell_type": "markdown",
      "id": "2f2a0793",
      "metadata": {
        "id": "2f2a0793"
      },
      "source": [
        "Random walks are biased toward high degree nodes, so they are much more likely to appear in a sample.\n",
        "That's why the biased $\\langle k\\rangle$ estimate is much too high, especially for networks with very large hubs."
      ]
    }
  ],
  "metadata": {
    "kernelspec": {
      "display_name": "Python 3",
      "language": "python",
      "name": "python3"
    },
    "language_info": {
      "codemirror_mode": {
        "name": "ipython",
        "version": 3
      },
      "file_extension": ".py",
      "mimetype": "text/x-python",
      "name": "python",
      "nbconvert_exporter": "python",
      "pygments_lexer": "ipython3",
      "version": "3.10.5"
    },
    "colab": {
      "provenance": []
    }
  },
  "nbformat": 4,
  "nbformat_minor": 5
}