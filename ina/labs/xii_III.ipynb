{
  "cells": [
    {
      "cell_type": "markdown",
      "id": "0fff5be0",
      "metadata": {
        "id": "0fff5be0"
      },
      "source": [
        "###### Introduction to Network Analysis 2023/24 (xii)\n",
        "\n",
        "## Random-walk sampling, network comparison"
      ]
    },
    {
      "cell_type": "markdown",
      "id": "eba94066",
      "metadata": {
        "id": "eba94066"
      },
      "source": [
        "### III. Networks and models comparison\n",
        "\n",
        "You are given three social networks and three food web graphs in Pajek format.\n",
        "\n",
        "+ Zachary karate club network ([karate_club.net](http://lovro.fri.uni-lj.si/ina/nets/karate_club.net))\n",
        "+ Davis southern women network ([southern_women.net](http://lovro.fri.uni-lj.si/ina/nets/southern_women.net))\n",
        "+ Lusseau bottlenose dolphins network ([dolphins.net](http://lovro.fri.uni-lj.si/ina/nets/dolphins.net))\n",
        "\n",
        "<span/>\n",
        "\n",
        "+ Little Rock Lake food web ([foodweb_littlerock.net](http://lovro.fri.uni-lj.si/ina/nets/foodweb_littlerock.net))\n",
        "+ Cypress Wetlands food web (dry) ([foodweb_baydry.net](http://lovro.fri.uni-lj.si/ina/nets/foodweb_baydry.net))\n",
        "+ Cypress Wetlands food web (wet) ([foodweb_baywet.net](http://lovro.fri.uni-lj.si/ina/nets/foodweb_baywet.net))\n",
        "\n"
      ]
    },
    {
      "cell_type": "markdown",
      "id": "a190f00d",
      "metadata": {
        "id": "a190f00d"
      },
      "source": [
        "1. **(discuss)** Consider different approaches for comparing networks. These include comparing networks by different metrics or statistics, graph edit distance, graphlet degree distribution agreement, portrait divergence, $D$-measure etc. You can implement the approaches by yourself, browse your network library for existing implementations or use the code provided below.\n",
        "\n",
        "\t+ Simplified $D$-measure: [simplified_dmeasure.py](http://lovro.fri.uni-lj.si/ina/code/simplified_dmeasure.py)\n",
        "\t+ Network portrait divergence: [portrait_divergence.py](http://lovro.fri.uni-lj.si/ina/code/portrait_divergence.py)\n",
        "\t+ Graphlet distribution agreement: [graphlet_aggrement.py](http://lovro.fri.uni-lj.si/ina/code/graphlet_aggrement.py)\n",
        "\n",
        "\tNote that the last script requires a working installation of the [orca](https://github.com/thocevar/orca) algorithm for counting graphlet orbits.\n",
        "\n"
      ]
    },
    {
      "cell_type": "markdown",
      "id": "c179b77d",
      "metadata": {
        "id": "c179b77d"
      },
      "source": [
        "2. **(code)** Compare the networks between each other and plot their dissimilarity or distances with a heat map. How similar are networks of different type? For instance, are social networks more similar to each other than to food webs? Does the answer depend on the selected measure of dissimilarity or distance?\n",
        "\n"
      ]
    },
    {
      "cell_type": "code",
      "execution_count": null,
      "id": "4f996a1f",
      "metadata": {
        "id": "4f996a1f"
      },
      "outputs": [],
      "source": [
        "# your code here"
      ]
    },
    {
      "cell_type": "markdown",
      "id": "297e1785",
      "metadata": {
        "id": "297e1785"
      },
      "source": [
        "3. **(code)** Compare the networks also to small synthetic graphs such as Erd&ouml;s-R&eacute;nyi random graphs, Barab&aacute;si-Albert scale-free graphs and Watts-Strogatz small-world graphs with $n=500$ nodes and $m=1500$ edges. How similar are real networks to synthetic graphs? How do synthetic graphs compare between each other?"
      ]
    },
    {
      "cell_type": "code",
      "execution_count": null,
      "id": "5d515bd9",
      "metadata": {
        "id": "5d515bd9"
      },
      "outputs": [],
      "source": [
        "# your code here"
      ]
    }
  ],
  "metadata": {
    "colab": {
      "provenance": []
    }
  },
  "nbformat": 4,
  "nbformat_minor": 5
}