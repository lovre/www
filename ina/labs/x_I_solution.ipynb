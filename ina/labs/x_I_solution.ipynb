{
  "cells": [
    {
      "cell_type": "markdown",
      "id": "4ff7bb2b",
      "metadata": {
        "id": "4ff7bb2b"
      },
      "source": [
        "###### Introduction to Network Analysis 2023/24 (x)\n",
        "\n",
        "## Node mixing by (not) degree, graphlet degrees"
      ]
    },
    {
      "cell_type": "code",
      "execution_count": null,
      "id": "073c169c",
      "metadata": {
        "id": "073c169c"
      },
      "outputs": [],
      "source": [
        "import networkx as nx\n",
        "import math\n",
        "from scipy import stats\n",
        "import utils"
      ]
    },
    {
      "cell_type": "markdown",
      "id": "adf05fdc",
      "metadata": {
        "id": "adf05fdc"
      },
      "source": [
        "### I. Degree assortative and disassortative networks\n",
        "\n",
        "Consider the following eight networks of different type and origin.\n",
        "\n",
        "+ Zachary karate club network ([karate_club.net](http://lovro.fri.uni-lj.si/ina/nets/karate_club.net))\n",
        "+ Java class dependency network ([java.net](http://lovro.fri.uni-lj.si/ina/nets/java.net))\n",
        "+ Map of Darknet from Tor network ([darknet.net](http://lovro.fri.uni-lj.si/ina/nets/darknet.net))\n",
        "+ Social network of unknown origin ([social.net](http://lovro.fri.uni-lj.si/ina/nets/social.net))\n",
        "+ iMDB actors collaboration network ([collaboration_imdb.net](http://lovro.fri.uni-lj.si/ina/nets/collaboration_imdb.net))\n",
        "+ Gnutella peer-to-peer sharing network ([gnutella.net](http://lovro.fri.uni-lj.si/ina/nets/gnutella.net))\n",
        "+ Sample of Facebook social network ([facebook.net](http://lovro.fri.uni-lj.si/ina/nets/facebook.net))\n",
        "+ *nec* overlay map of the Internet ([nec.net](http://lovro.fri.uni-lj.si/ina/nets/nec.net))\n",
        "\n"
      ]
    },
    {
      "cell_type": "markdown",
      "id": "b72d78d7",
      "metadata": {
        "id": "b72d78d7"
      },
      "source": [
        "Node mixing measures how likely nodes with certain characteristics or attributes are connected to each other. These attributes can be the gender or age of individuals, degree centrality of nodes or other. In the labs we will focus on node mixing by degree, where we distinguish between:\n",
        "\n",
        "- Assortative mixing, where nodes are more likely to connect with nodes that have similar attributes. In terms of degrees, nodes with similar degree should connect to one another.\n",
        "- Disassortative mixing, where nodes are more likely to be connected to the nodes with different attributes. In terms of degrees, nodes with small degree will connect to hubs.\n",
        "\n",
        "Node mixing is often measured using correlation coefficients, such as Pearson's correlation coefficient. These coefficients quantify the strength and direction of the correlation between node attributes.\n",
        "\n",
        "**NOTE**: When calculating Pearson coefficient, we add both node degrees of a link to degree array, so our calculation will be independent of how the links are stored."
      ]
    },
    {
      "cell_type": "markdown",
      "id": "0f0cb22f",
      "metadata": {
        "id": "0f0cb22f"
      },
      "source": [
        "1. **(code)** Implement Newman's node degree mixing coefficient $r$ as a sample Pearson correlation coefficient between the linked nodes' degrees $k$ and $k'$.\n",
        "\n",
        "\t$$r(k,k')=\\frac{\\sum_i(k_i-\\langle k\\rangle)(k'_i-\\langle k'\\rangle)}{\\sigma_k\\sigma_{k'}}$$\n",
        "\n",
        "\tTreat all networks as undirected graphs and compute their undirected degree mixing coefficient $r$. Are the networks assortative $r>0$, disassortative $r<0$ or neutral $r\\approx 0$?\n",
        "\n"
      ]
    },
    {
      "cell_type": "code",
      "execution_count": null,
      "id": "d59e726d",
      "metadata": {
        "id": "d59e726d",
        "outputId": "2804f0a3-9bb3-468d-d615-d7c2098b6ec3"
      },
      "outputs": [
        {
          "name": "stdout",
          "output_type": "stream",
          "text": [
            "MultiGraph named 'karate_club' with 34 nodes and 78 edges\n",
            "MultiDiGraph named 'java' with 2378 nodes and 14727 edges\n",
            "MultiGraph named 'darknet' with 7178 nodes and 25104 edges\n",
            "MultiGraph named 'social' with 10680 nodes and 24316 edges\n",
            "MultiGraph named 'collaboration_imdb' with 17577 nodes and 287074 edges\n",
            "MultiDiGraph named 'gnutella' with 62586 nodes and 147892 edges\n",
            "MultiGraph named 'facebook' with 63731 nodes and 817035 edges\n",
            "MultiDiGraph named 'nec' with 75885 nodes and 357317 edges\n"
          ]
        }
      ],
      "source": [
        "Gs = []\n",
        "for name in [\"karate_club\", \"java\", \"darknet\", \"social\", \"collaboration_imdb\", \"gnutella\", \"facebook\", \"nec\"]:\n",
        "  G = utils.read_pajek(name)\n",
        "  print(G)\n",
        "  Gs.append(G)\n"
      ]
    },
    {
      "cell_type": "code",
      "execution_count": null,
      "id": "4a820bdb",
      "metadata": {
        "id": "4a820bdb"
      },
      "outputs": [],
      "source": [
        "def degree_mixing(G, source = None, target = None):\n",
        "  x, y = [], []\n",
        "\n",
        "  for i, j in G.edges():\n",
        "    if source != None and target != None:\n",
        "      x.append(G.out_degree(i) if source == 'out' else G.in_degree(i))\n",
        "      y.append(G.in_degree(j) if target == 'in' else G.out_degree(j))\n",
        "    else:\n",
        "      x.append(G.degree(i))\n",
        "      y.append(G.degree(j))\n",
        "      x.append(G.degree(j))\n",
        "      y.append(G.degree(i))\n",
        "\n",
        "  return stats.pearsonr(x, y)[0]\n",
        "\n",
        "print(\"{:>21s} | {:^7s}\".format('Graph', 'r'))\n",
        "\n",
        "for G in Gs:\n",
        "  r = degree_mixing(G)\n",
        "  print(\"{:>21s} | {:^7.3f}\".format(\"'\" + G.name + \"'\", r))\n",
        "print()"
      ]
    },
    {
      "cell_type": "markdown",
      "id": "851855bf",
      "metadata": {
        "id": "851855bf"
      },
      "source": [
        "| Graph                | r      |\n",
        "| -------------------- | ------ |\n",
        "| 'karate_club'        | -0.476 |\n",
        "| 'java'               | -0.307 |\n",
        "| 'darknet'            | -0.440 |\n",
        "| 'social'             | 0.238  |\n",
        "| 'collaboration_imdb' | 0.293  |\n",
        "| 'gnutella'           | -0.093 |\n",
        "| 'facebook'           | 0.177  |\n",
        "| 'nec'                | -0.146 |\n",
        "\n",
        "\n",
        "Rule of thumb is that social networks are degree assortative while technological networks (such as railway, roadway, ...) are degree neutral. Other networks are generally degree disassortative. Looking at Pearson coefficients, we can only see degree disassortative and assortative networks, which do follow our rule of thumb:\n",
        "- Facebook, social and collaboration_imdb are assortative\n",
        "- other non-social networks are degree disassortative"
      ]
    },
    {
      "cell_type": "markdown",
      "id": "1779927e",
      "metadata": {
        "id": "1779927e"
      },
      "source": [
        "2. **(code)** Generate corresponding Erd&ouml;s-R&eacute;nyi random graphs and compute their undirected degree mixing coefficient $r$. Are random graphs assortative $r>0$, disassortative $r<0$ or neutral $r\\approx 0$?\n",
        "\n"
      ]
    },
    {
      "cell_type": "code",
      "execution_count": null,
      "id": "1fae78da",
      "metadata": {
        "id": "1fae78da"
      },
      "outputs": [],
      "source": [
        "for G in Gs:\n",
        "  n = G.number_of_nodes()\n",
        "  m = G.number_of_edges()\n",
        "  k = 2 * m / n\n",
        "  p = k/(n-1)\n",
        "\n",
        "  ER_G = nx.erdos_renyi_graph(n,p)\n",
        "  r = nx.degree_assortativity_coefficient(ER_G)\n",
        "\n",
        "  print(\"{:>21s} | {:^7.3f}\".format(\"'\" + ER_G.name + \"'\", r))\n",
        "print()"
      ]
    },
    {
      "cell_type": "markdown",
      "id": "335b5091",
      "metadata": {
        "id": "335b5091"
      },
      "source": [
        "| Graph                | r      |\n",
        "| -------------------- | ------ |\n",
        "| 'karate_club'        | -0.039 |\n",
        "| 'java'               | -0.005 |\n",
        "| 'darknet'            | -0.009 |\n",
        "| 'social'             | 0.003  |\n",
        "| 'collaboration_imdb' | -0.001 |\n",
        "| 'gnutella'           | -0.001 |\n",
        "| 'facebook'           | -0.002 |\n",
        "| 'nec'                | 0.002  |\n",
        "\n",
        "ER random graph mixing coefficient is neutral, which is to be expected, since edges will be uniformly randomly distributed, therefore nodes in the network will have similar degree."
      ]
    },
    {
      "cell_type": "markdown",
      "id": "5b06e215",
      "metadata": {
        "id": "5b06e215"
      },
      "source": [
        "3. **(code)** For directed networks, compute all four directed degree mixing coefficients $r_{(in,in)}$, $r_{(in,out)}$, $r_{(out,in)}$ and $r_{(out,out)}$. Are the networks assortative $r_{\\cdot}>0$, disassortative $r_{\\cdot}<0$ or neutral $r_{\\cdot}\\approx 0$?"
      ]
    },
    {
      "cell_type": "code",
      "execution_count": null,
      "id": "1c30e844",
      "metadata": {
        "id": "1c30e844"
      },
      "outputs": [],
      "source": [
        "print(\"{:>21s} | {:^7s} {:^7s} {:^7s} {:^7s} {:^7s}\".format('Graph', 'r', 'r(ii)', 'r(io)', 'r(oi)', 'r(oo)'))\n",
        "\n",
        "for G in Gs:\n",
        "  r = degree_mixing(G)\n",
        "  # r = nx.degree_assortativity_coefficient(G)\n",
        "\n",
        "  rii = math.nan\n",
        "  if isinstance(G, nx.DiGraph):\n",
        "    rii = degree_mixing(G, 'in', 'in')\n",
        "\n",
        "  rio = math.nan\n",
        "  if isinstance(G, nx.DiGraph):\n",
        "    rio = degree_mixing(G, 'in', 'out')\n",
        "\n",
        "  roi = math.nan\n",
        "  if isinstance(G, nx.DiGraph):\n",
        "    roi = degree_mixing(G, 'out', 'in')\n",
        "\n",
        "  roo = math.nan\n",
        "  if isinstance(G, nx.DiGraph):\n",
        "    roo = degree_mixing(G, 'out', 'out')\n",
        "\n",
        "  print(\"{:>21s} | {:^7.3f} {:^7.3f} {:^7.3f} {:^7.3f} {:^7.3f}\".format(\"'\" + G.name + \"'\", r, rii, rio, roi, roo))\n",
        "print()"
      ]
    },
    {
      "cell_type": "markdown",
      "id": "2d3c62c8",
      "metadata": {
        "id": "2d3c62c8"
      },
      "source": [
        "| Graph                | r      | r(ii)  | r(io)  | r(oi)  | r(oo)  |\n",
        "| -------------------- | ------ | ------ | ------ | ------ | ------ |\n",
        "| 'karate_club'        | -0.476 | nan    | nan    | nan    | nan    |\n",
        "| 'java'               | -0.307 | -0.027 | -0.017 | -0.321 | 0.065  |\n",
        "| 'darknet'            | -0.440 | nan    | nan    | nan    | nan    |\n",
        "| 'social'             | 0.238  | nan    | nan    | nan    | nan    |\n",
        "| 'collaboration_imdb' | 0.293  | nan    | nan    | nan    | nan    |\n",
        "| 'gnutella'           | -0.093 | 0.035  | 0.008  | -0.006 | -0.003 |\n",
        "| 'facebook'           | 0.177  | nan    | nan    | nan    | nan    |\n",
        "| 'nec'                | -0.146 | -0.072 | -0.009 | -0.102 | -0.012 |\n",
        "\n",
        "Looking at Pearson coefficients of undirected networks, we see only degree disassortative and assortative networks. When taking into account their in and out degrees the results are different. In the java network, most of the disassortativness comes from out-degree to in-degree Pearson coefficient, which means that classes with a lot of classes use ones, that are rarely used and the other way around."
      ]
    }
  ],
  "metadata": {
    "kernelspec": {
      "display_name": "Python 3",
      "language": "python",
      "name": "python3"
    },
    "language_info": {
      "codemirror_mode": {
        "name": "ipython",
        "version": 3
      },
      "file_extension": ".py",
      "mimetype": "text/x-python",
      "name": "python",
      "nbconvert_exporter": "python",
      "pygments_lexer": "ipython3",
      "version": "3.10.5"
    },
    "colab": {
      "provenance": []
    }
  },
  "nbformat": 4,
  "nbformat_minor": 5
}