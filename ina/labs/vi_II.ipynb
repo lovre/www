{
  "cells": [
    {
      "cell_type": "markdown",
      "id": "a4a750c1",
      "metadata": {
        "id": "a4a750c1"
      },
      "source": [
        "###### Introduction to Network Analysis 2023/24 (vi)\n",
        "\n",
        "## Link betweenness, node similarity, errors & attacks"
      ]
    },
    {
      "cell_type": "markdown",
      "id": "7f6b0941",
      "metadata": {
        "id": "7f6b0941"
      },
      "source": [
        "### II. Movie recommendations with PageRank\n",
        "\n",
        "You are given a small knowledge graph of $1337$ movies in Pajek format ([movies_graph.net](http://lovro.fri.uni-lj.si/ina/nets/movies_graph.net)). Nodes represent either individual movies or their different *modes* such as language, country, genres, actors, director etc.\n",
        "\n"
      ]
    },
    {
      "cell_type": "markdown",
      "id": "eee77897",
      "metadata": {
        "id": "eee77897"
      },
      "source": [
        "1. **(code)** Compute standard statistics of the network. Are the results expected?\n",
        "\n"
      ]
    },
    {
      "cell_type": "code",
      "execution_count": null,
      "id": "daa094ff",
      "metadata": {
        "id": "daa094ff"
      },
      "outputs": [],
      "source": [
        "# your code here"
      ]
    },
    {
      "cell_type": "markdown",
      "id": "30b0cbf8",
      "metadata": {
        "id": "30b0cbf8"
      },
      "source": [
        "2. **(code)** Find the most important movies according to the PageRank algorithm $p_i=\\alpha\\sum_jA_{ij}\\frac{p_j}{k_j}+\\frac{1-\\alpha}{n}$, where $A$ is the network adjacency matrix, $n$ is the number of network nodes, $k_i$ is the degree of node $i$ and $\\alpha$ is the damping factor set to $0.85$. Which movies have the highest PageRank score?\n",
        "\n"
      ]
    },
    {
      "cell_type": "code",
      "execution_count": null,
      "id": "7725fc7a",
      "metadata": {
        "id": "7725fc7a"
      },
      "outputs": [],
      "source": [
        "# your code here"
      ]
    },
    {
      "cell_type": "markdown",
      "id": "f8bbddbc",
      "metadata": {
        "id": "f8bbddbc"
      },
      "source": [
        "3. **(code)** Consider random walks with restarts $p^t_i=\\alpha\\sum_jA_{ij}\\frac{p^t_j}{k_j}+(1-\\alpha)\\delta_{it}$, where $t$ is a selected teleport node and $\\delta$ is the Kronecker delta.\n",
        "How could you use this algorithm to find movies similar to, e.g., *Moana*?\n",
        "\n"
      ]
    },
    {
      "cell_type": "code",
      "execution_count": null,
      "id": "c612fabd",
      "metadata": {
        "id": "c612fabd"
      },
      "outputs": [],
      "source": [
        "# your code here"
      ]
    },
    {
      "cell_type": "markdown",
      "id": "a957b5f6",
      "metadata": {
        "id": "a957b5f6"
      },
      "source": [
        "4. **(homework)** Consider the personalized PageRank algorithm $p^{[t]}_i=\\alpha\\sum_jA_{ij}\\frac{p^{[t]}_j}{k_j}+(1-\\alpha)[t]_i$, where $[t]$ is a selected personalization vector, $\\sum_i[t]_i=1$. How could you use this algorithm to find movies similar to, e.g., dramas starred by Tom Hanks, action and adventure movies with Johnny Depp or movies co-starred by Brad Pitt and George Clooney?\n",
        "\n"
      ]
    },
    {
      "cell_type": "code",
      "execution_count": null,
      "id": "202e8b0e",
      "metadata": {
        "id": "202e8b0e"
      },
      "outputs": [],
      "source": [
        "# your code here"
      ]
    },
    {
      "cell_type": "markdown",
      "id": "c5c604e9",
      "metadata": {
        "id": "c5c604e9"
      },
      "source": [
        "5. **(discuss)** Examples above include only *positive* queries by measuring similarity between the movies and selected modes. But how could handle also *negative* queries such as, e.g., you do not like romantic movies or a particular actor?"
      ]
    }
  ],
  "metadata": {
    "kernelspec": {
      "display_name": "Python 3 (ipykernel)",
      "language": "python",
      "name": "python3"
    },
    "language_info": {
      "codemirror_mode": {
        "name": "ipython",
        "version": 3
      },
      "file_extension": ".py",
      "mimetype": "text/x-python",
      "name": "python",
      "nbconvert_exporter": "python",
      "pygments_lexer": "ipython3",
      "version": "3.7.3"
    },
    "colab": {
      "provenance": []
    }
  },
  "nbformat": 4,
  "nbformat_minor": 5
}