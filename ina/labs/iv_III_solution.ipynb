{
  "cells": [
    {
      "cell_type": "markdown",
      "id": "6491e0d5",
      "metadata": {
        "id": "6491e0d5"
      },
      "source": [
        "###### Introduction to Network Analysis 2023/24 (iv)\n",
        "\n",
        "## Small-world and scale-free models, graphs vs networks\n",
        "\n",
        "You are given six networks in Pajek format.\n",
        "\n",
        "+ Zachary karate club network ([karate_club.net](http://lovro.fri.uni-lj.si/ina/nets/karate_club.net))\n",
        "+ Map of Darknet from Tor network ([darknet.net](http://lovro.fri.uni-lj.si/ina/nets/darknet.net))\n",
        "+ IMDb actors collaboration network ([collaboration_imdb.net](http://lovro.fri.uni-lj.si/ina/nets/collaboration_imdb.net))\n",
        "+ WikiLeaks cable reference network ([wikileaks.net](http://lovro.fri.uni-lj.si/ina/nets/wikileaks.net))\n",
        "+ Enron e-mail communication network ([enron.net](http://lovro.fri.uni-lj.si/ina/nets/enron.net))\n",
        "+ A small part of Google web graph ([www_google.net](http://lovro.fri.uni-lj.si/ina/nets/www_google.net))"
      ]
    },
    {
      "cell_type": "code",
      "execution_count": 1,
      "id": "62f99878",
      "metadata": {
        "id": "62f99878"
      },
      "outputs": [],
      "source": [
        "import networkx as nx\n",
        "import random\n",
        "import utils"
      ]
    },
    {
      "cell_type": "markdown",
      "id": "45c7e169",
      "metadata": {
        "id": "45c7e169"
      },
      "source": [
        "### III. Synthetic random graphs vs real networks\n",
        "\n",
        "Consider different large-scale properties of real networks. Namely, low average node degree $\\langle k\\rangle\\ll n$, one giant connected component $S\\approx 1$, short distances between the nodes $\\langle d\\rangle\\approx\\frac{\\ln n}{\\ln\\langle k\\rangle}$, high average node clustering coefficient $\\langle C\\rangle\\gg 0$, power-law degree distribution $p_k\\sim k^{-\\gamma}$, pronounced community structure etc.\n",
        "\n"
      ]
    },
    {
      "cell_type": "markdown",
      "id": "1dee58b1",
      "metadata": {
        "id": "1dee58b1"
      },
      "source": [
        "1. **(discuss)** Design synthetic graph model that generates undirected graphs that are _most different_ from real networks.\n",
        "\n"
      ]
    },
    {
      "cell_type": "markdown",
      "id": "9216e141",
      "metadata": {
        "id": "9216e141"
      },
      "source": [
        "To generate the most different graph, it needs to have:\n",
        "- large distances between nodes,\n",
        "- low clustering,\n",
        "- high average node degree, but we have to be careful since this makes graph denser, which increases clustering and lowers distances,\n",
        "- uncharacteristic degree distribution like Binomial,\n",
        "- no large connected component.\n",
        "\n",
        "One example of that could be a chain. It has clustering coefficient of 0 since only connection is to the neighboring node, distances scale with O(n) and all nodes except for ending have the same degree. To have no large connected component just create multiple unconnected chains. This satisfies all the criteria except for high node degree.\n",
        "\n",
        "\n",
        "Another good example is also a Hypercube graph. Here we would also need to do the trick to have multiple disconnected graphs in order not to have one LCC."
      ]
    },
    {
      "cell_type": "code",
      "execution_count": 2,
      "id": "85746048",
      "metadata": {
        "colab": {
          "base_uri": "https://localhost:8080/"
        },
        "id": "85746048",
        "outputId": "f92a5aa7-cb42-449a-a4a5-4235648dc3e7"
      },
      "outputs": [
        {
          "output_type": "stream",
          "name": "stdout",
          "text": [
            "       Graph | 'Chain'\n",
            "       Nodes | 8,192 (iso=0)\n",
            "       Edges | 8,191 (loop=0)\n",
            "      Degree | 2.00 (max=2)\n",
            "         LCC | 100.0% (n=1)\n",
            "    Distance | 2691.04 (max=8,184)\n",
            "  Clustering | 0.0000\n",
            "\n"
          ]
        }
      ],
      "source": [
        "G = nx.Graph(name=\"Chain\")\n",
        "\n",
        "num_nodes = 8192\n",
        "for i in range(num_nodes):\n",
        "    G.add_node(i)\n",
        "\n",
        "for i in range(num_nodes - 1):\n",
        "    G.add_edge(i, i + 1)\n",
        "\n",
        "utils.info(G, distance_sample=300)"
      ]
    },
    {
      "cell_type": "code",
      "execution_count": 5,
      "id": "5a729a8c",
      "metadata": {
        "colab": {
          "base_uri": "https://localhost:8080/"
        },
        "id": "5a729a8c",
        "outputId": "86807d88-f468-4509-e002-052e8fd80237"
      },
      "outputs": [
        {
          "output_type": "stream",
          "name": "stdout",
          "text": [
            "       Graph | 'Hypercube'\n",
            "       Nodes | 8,192 (iso=0)\n",
            "       Edges | 53,248 (loop=0)\n",
            "      Degree | 13.00 (max=13)\n",
            "         LCC | 100.0% (n=1)\n",
            "    Distance | 6.50 (max=13)\n",
            "  Clustering | 0.0000\n",
            "\n"
          ]
        }
      ],
      "source": [
        "import networkx as nx\n",
        "\n",
        "n = 13  # Dimension of the hypercube\n",
        "G = nx.hypercube_graph(n)\n",
        "G.name = \"Hypercube\"\n",
        "\n",
        "utils.info(G, distance_sample=300)"
      ]
    },
    {
      "cell_type": "markdown",
      "id": "2c3dc384",
      "metadata": {
        "id": "2c3dc384"
      },
      "source": [
        "2. **(code)** Implement generative graph model that _well reproduces_ the structure of real undirected networks.\n",
        "\n"
      ]
    },
    {
      "cell_type": "markdown",
      "id": "eebf4ade",
      "metadata": {
        "id": "eebf4ade"
      },
      "source": [
        "To reproduce a real undirected network, we can use **copying model**. Model will create 2 links for every added node by connecting to a randomly selected node and one of it's neighbors. This will guarantee that the probability of edge is proportional to hubs, which gives us a scale free model and has high clustering coefficient, low distances, one LCC and low average degree.  "
      ]
    },
    {
      "cell_type": "code",
      "execution_count": 7,
      "id": "d20ef260",
      "metadata": {
        "colab": {
          "base_uri": "https://localhost:8080/"
        },
        "id": "d20ef260",
        "outputId": "117b5314-b6eb-4978-8468-4597f6094818"
      },
      "outputs": [
        {
          "output_type": "stream",
          "name": "stdout",
          "text": [
            "       Graph | ''\n",
            "       Nodes | 10,000 (iso=0)\n",
            "       Edges | 19,997 (loop=0)\n",
            "      Degree | 4.00 (max=66)\n",
            "         LCC | 100.0% (n=1)\n",
            "    Distance | 8.76 (max=18)\n",
            "  Clustering | 0.6925\n",
            "\n"
          ]
        }
      ],
      "source": [
        "# Example code which takes in existing graph and number of nodes we want to add\n",
        "def copying_model(G, new_nodes):\n",
        "\n",
        "    n = G.number_of_nodes()\n",
        "\n",
        "    # add initial node if the G is empty\n",
        "    if(n == 0):\n",
        "        G.add_node(1)\n",
        "        new_nodes -= 1\n",
        "        n += 1\n",
        "\n",
        "    # add edge to chosen node and neighbor\n",
        "    for i in range(new_nodes):\n",
        "\n",
        "        new_node = n + i + 1\n",
        "\n",
        "        random_node = random.choice(list(G.nodes))\n",
        "        neighbors = list(G.neighbors(random_node))\n",
        "        G.add_edge(random_node, new_node)\n",
        "\n",
        "        if(len(neighbors)):\n",
        "            random_neighbor = random.choice(neighbors)\n",
        "            G.add_edge(random_neighbor, new_node)\n",
        "\n",
        "    return G\n",
        "\n",
        "\n",
        "graph = nx.Graph()\n",
        "# Arbitrary initial graph\n",
        "# graph.add_nodes_from([...])\n",
        "# graph.add_edges_from([...])\n",
        "\n",
        "new_nodes = 10000\n",
        "G = copying_model(graph, new_nodes)\n",
        "\n",
        "utils.info(G, distance_sample=300)"
      ]
    },
    {
      "cell_type": "markdown",
      "id": "cda886f3",
      "metadata": {
        "id": "cda886f3"
      },
      "source": [
        "3. **(discuss)** Does your model have reasonable interpretation or explanation? Does it also reproduce the structure of real directed networks?"
      ]
    },
    {
      "cell_type": "markdown",
      "id": "90b7f741",
      "metadata": {
        "id": "90b7f741"
      },
      "source": [
        "The model is both interpretable and works for real directed networks. It can be intepreted as \"meeting a friend of a friend\", where we have a big chance of linking to one of the neighbors of the node we are already connected to. In terms of directed network, it could be explained as a network of paper citations."
      ]
    }
  ],
  "metadata": {
    "kernelspec": {
      "display_name": "Python 3 (ipykernel)",
      "language": "python",
      "name": "python3"
    },
    "language_info": {
      "codemirror_mode": {
        "name": "ipython",
        "version": 3
      },
      "file_extension": ".py",
      "mimetype": "text/x-python",
      "name": "python",
      "nbconvert_exporter": "python",
      "pygments_lexer": "ipython3",
      "version": "3.7.3"
    },
    "colab": {
      "provenance": []
    }
  },
  "nbformat": 4,
  "nbformat_minor": 5
}