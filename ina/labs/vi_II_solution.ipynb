{
  "cells": [
    {
      "cell_type": "markdown",
      "id": "b2eac29f",
      "metadata": {
        "id": "b2eac29f"
      },
      "source": [
        "###### Introduction to Network Analysis 2023/24 (vi)\n",
        "\n",
        "## Link betweenness, node similarity, errors & attacks"
      ]
    },
    {
      "cell_type": "markdown",
      "id": "274d7d91",
      "metadata": {
        "id": "274d7d91"
      },
      "source": [
        "### II. Movie recommendations with PageRank\n",
        "\n",
        "You are given a small knowledge graph of $1337$ movies in Pajek format ([movies_graph.net](http://lovro.fri.uni-lj.si/ina/nets/movies_graph.net)). Nodes represent either individual movies or their different *modes* such as language, country, genres, actors, director etc.\n",
        "\n"
      ]
    },
    {
      "cell_type": "markdown",
      "id": "64e3fab7",
      "metadata": {
        "id": "64e3fab7"
      },
      "source": [
        "1. **(code)** Compute standard statistics of the network. Are the results expected?\n",
        "\n"
      ]
    },
    {
      "cell_type": "code",
      "execution_count": null,
      "id": "21f44578",
      "metadata": {
        "id": "21f44578",
        "outputId": "57c52d88-b5fe-4837-a5f9-628ae45a5b3d"
      },
      "outputs": [
        {
          "name": "stdout",
          "output_type": "stream",
          "text": [
            "  MultiGraph | 'movies_graph'\n",
            "       Nodes | 6,577 (iso=0)\n",
            "       Edges | 16,842 (loop=0)\n",
            "      Degree | 5.12 (max=1,213)\n",
            "         LCC | 100.0% (n=1)\n",
            "  Clustering | 0.0000\n",
            "\n",
            "movies_graph is bipartite!\n"
          ]
        }
      ],
      "source": [
        "import utils\n",
        "import networkx as nx\n",
        "\n",
        "movies = utils.read_pajek(\"movies_graph\")\n",
        "utils.info(movies, clustering_sample=len(movies))\n",
        "\n",
        "if nx.is_bipartite(movies):\n",
        "    print(f\"{movies.name} is bipartite!\")"
      ]
    },
    {
      "cell_type": "markdown",
      "id": "e0c3472a",
      "metadata": {
        "id": "e0c3472a"
      },
      "source": [
        "Clustering is 0, as expected for a bipartite graph."
      ]
    },
    {
      "cell_type": "markdown",
      "id": "01e59cbb",
      "metadata": {
        "id": "01e59cbb"
      },
      "source": [
        "2. **(code)** Find the most important movies according to the PageRank algorithm $p_i=\\alpha\\sum_jA_{ij}\\frac{p_j}{k_j}+\\frac{1-\\alpha}{n}$, where $A$ is the network adjacency matrix, $n$ is the number of network nodes, $k_i$ is the degree of node $i$ and $\\alpha$ is the damping factor set to $0.85$. Which movies have the highest PageRank score?\n",
        "\n"
      ]
    },
    {
      "cell_type": "code",
      "execution_count": null,
      "id": "ba3809bb",
      "metadata": {
        "id": "ba3809bb",
        "outputId": "76945de1-5ddb-49c9-f612-e1594a057fae"
      },
      "outputs": [
        {
          "name": "stdout",
          "output_type": "stream",
          "text": [
            "  Centrality | 'pagerank'\n",
            "    0.000764 | 'Movie 43' (21)\n",
            "    0.000604 | 'Parade' (18)\n",
            "    0.000588 | 'Joyeux Noel' (23)\n",
            "    0.000584 | 'Children of Men' (22)\n",
            "    0.000583 | '7 Boxes' (17)\n",
            "    0.000576 | 'Hitman's Bodyguard' (24)\n",
            "    0.000568 | 'Nomad - The Warrior' (15)\n",
            "    0.000563 | 'Hunting Party' (20)\n",
            "    0.000560 | 'Moana' (18)\n",
            "    0.000551 | 'Wonder Woman' (23)\n",
            "    0.000548 | 'Saving Santa' (18)\n",
            "    0.000546 | 'Turbo Kid' (17)\n",
            "    0.000545 | 'Wild Life' (18)\n",
            "    0.000543 | 'Valerian and the City of a Thousand Planets' (23)\n",
            "    0.000542 | 'Blade Runner 2049' (23)\n",
            "\n"
          ]
        }
      ],
      "source": [
        "G = movies\n",
        "_ = utils.top_nodes(G, utils.pagerank(G), 'pagerank')"
      ]
    },
    {
      "cell_type": "markdown",
      "id": "706d0b86",
      "metadata": {
        "id": "706d0b86"
      },
      "source": [
        "The first movie (*Movie 43*) as an anthology film featuring 14 different storylines and many different famous actors, which boosted its PageRank score."
      ]
    },
    {
      "cell_type": "markdown",
      "id": "427e8701",
      "metadata": {
        "id": "427e8701"
      },
      "source": [
        "3. **(code)** Consider random walks with restarts $p^t_i=\\alpha\\sum_jA_{ij}\\frac{p^t_j}{k_j}+(1-\\alpha)\\delta_{it}$, where $t$ is a selected teleport node and $\\delta$ is the Kronecker delta.\n",
        "How could you use this algorithm to find movies similar to, e.g., *Moana*?\n",
        "\n"
      ]
    },
    {
      "cell_type": "code",
      "execution_count": null,
      "id": "bfdc09e2",
      "metadata": {
        "id": "bfdc09e2",
        "outputId": "3e4b0cc0-834a-4580-e415-c6b2106ce66a"
      },
      "outputs": [
        {
          "name": "stdout",
          "output_type": "stream",
          "text": [
            "  Centrality | 'pagerank'\n",
            "    0.223491 | 'Moana' (18)\n",
            "    0.001624 | 'Saving Santa' (18)\n",
            "    0.001515 | 'Frozen' (16)\n",
            "    0.001493 | 'Smallfoot' (16)\n",
            "    0.001449 | 'Lion King' (19)\n",
            "    0.001444 | 'Hoodwinked' (17)\n",
            "    0.001430 | 'Rio' (16)\n",
            "    0.001341 | 'Book of Life' (16)\n",
            "    0.001287 | 'Muppets Most Wanted' (15)\n",
            "    0.001237 | 'Aladdin' (16)\n",
            "    0.001196 | 'Into the Woods' (13)\n",
            "    0.001133 | 'Greatest Showman' (11)\n",
            "    0.001130 | 'Planet 51' (18)\n",
            "    0.001033 | 'Sweeney Todd - The Demon Barber of Fleet Street' (14)\n",
            "    0.000956 | 'Jumanji 2 - Welcome to the Jungle' (17)\n",
            "\n"
          ]
        }
      ],
      "source": [
        "def similar_movies(title: str):\n",
        "    tp = {utils.find_node(G, title)}\n",
        "    pr = utils.pagerank(G, teleport=tp) # every restart will begin at the target movie (eg. Moana)\n",
        "    utils.top_nodes(G, pr, 'pagerank')\n",
        "    return pr\n",
        "\n",
        "moana_pr = similar_movies(\"Moana\")"
      ]
    },
    {
      "cell_type": "markdown",
      "id": "fadb3b9b",
      "metadata": {
        "id": "fadb3b9b"
      },
      "source": [
        "Note that this heuristic was smart enough to find the live-action *Aladdin* among animated films."
      ]
    },
    {
      "cell_type": "code",
      "execution_count": null,
      "id": "fb9375fe",
      "metadata": {
        "id": "fb9375fe",
        "outputId": "b51d6ace-684d-4a38-e15c-8bcd67665447"
      },
      "outputs": [
        {
          "name": "stdout",
          "output_type": "stream",
          "text": [
            "similar to Pulp Fiction:\n",
            "  Centrality | 'pagerank'\n",
            "    0.190888 | 'Pulp Fiction' (12)\n",
            "    0.003497 | 'Funny Games' (11)\n",
            "    0.003449 | 'Liability' (11)\n",
            "    0.003126 | 'Hardcore Henry' (15)\n",
            "    0.003075 | 'Incredible Hulk' (13)\n",
            "    0.002930 | 'Death Proof' (10)\n",
            "    0.002892 | 'Sin City' (12)\n",
            "    0.002783 | 'Hateful Eight' (11)\n",
            "    0.002775 | 'Django Unchained' (13)\n",
            "    0.002756 | 'Inglourious Basterds' (11)\n",
            "    0.002363 | 'I Am Wrath' (12)\n",
            "    0.002288 | 'Bolt' (14)\n",
            "    0.002224 | 'From Paris with Love' (16)\n",
            "    0.002168 | 'Be Cool' (12)\n",
            "    0.002102 | 'Killing Season' (11)\n",
            "\n",
            "similar to The Room:\n",
            "node 'The Room' not found in movies_graph\n"
          ]
        }
      ],
      "source": [
        "# here you can play around with your favorite movies\n",
        "for movie in [\"Pulp Fiction\", \"The Room\"]:\n",
        "    print(f\"similar to {movie}:\")\n",
        "    try:\n",
        "        similar_movies(movie)\n",
        "    except ValueError as err:\n",
        "        print(err)"
      ]
    },
    {
      "cell_type": "markdown",
      "id": "b041ebeb",
      "metadata": {
        "id": "b041ebeb"
      },
      "source": [
        "4. **(homework)** Consider the personalized PageRank algorithm $p^{[t]}_i=\\alpha\\sum_jA_{ij}\\frac{p^{[t]}_j}{k_j}+(1-\\alpha)[t]_i$, where $[t]$ is a selected personalization vector, $\\sum_i[t]_i=1$. How could you use this algorithm to find movies similar to, e.g., dramas starred by Tom Hanks, action and adventure movies with Johnny Depp or movies co-starred by Brad Pitt and George Clooney?\n",
        "\n"
      ]
    },
    {
      "cell_type": "code",
      "execution_count": null,
      "id": "dff2f085",
      "metadata": {
        "id": "dff2f085",
        "outputId": "08c944bd-be06-4c14-8138-7b3706e6f6cc"
      },
      "outputs": [
        {
          "name": "stdout",
          "output_type": "stream",
          "text": [
            "  Centrality | '{'m-Tom Hanks', 'm-Drama'}'\n",
            "    0.008388 | 'Forrest Gump' (10)\n",
            "    0.008339 | 'Toy Story of Terror' (11)\n",
            "    0.008328 | 'Polar Express' (11)\n",
            "    0.008097 | 'Toy Story That Time Forgot' (14)\n",
            "    0.008093 | 'Sully' (10)\n",
            "    0.007797 | 'Captain Phillips' (14)\n",
            "    0.007738 | 'Toy Story 3' (14)\n",
            "    0.007590 | 'Angels & Demons' (10)\n",
            "    0.007585 | 'Saving Private Ryan' (13)\n",
            "    0.007544 | 'Saving Mr. Banks' (11)\n",
            "    0.007077 | 'Inferno' (18)\n",
            "    0.006968 | 'Da Vinci Code' (16)\n",
            "    0.000786 | 'Kraftidioten' (19)\n",
            "    0.000773 | 'Blade Runner 2049' (23)\n",
            "    0.000714 | 'Blind Side' (11)\n",
            "\n",
            "  Centrality | '{'m-Action', 'm-Johnny Depp', 'm-Adventure'}'\n",
            "    0.003613 | 'Pirates of the Caribbean 2 - Dead Man's Chest' (15)\n",
            "    0.003519 | 'Fantastic Beasts - The Crimes of Grindelwald' (13)\n",
            "    0.003507 | 'Alice Through the Looking Glass' (11)\n",
            "    0.003502 | 'Alice in Wonderland' (12)\n",
            "    0.003489 | 'Pirates of the Caribbean 5 - Dead Men Tell No Tales' (16)\n",
            "    0.003474 | 'Pirates of the Caribbean - The Curse of the Black Pearl' (11)\n",
            "    0.003474 | 'Pirates of the Caribbean 3 - At World's End' (11)\n",
            "    0.003375 | 'Blow' (11)\n",
            "    0.003346 | 'Lone Ranger' (11)\n",
            "    0.003342 | 'Edward Scissorhands' (11)\n",
            "    0.003341 | 'Pirates of the Caribbean 4 - On Stranger Tides' (11)\n",
            "    0.003290 | 'Fear and Loathing in Las Vegas' (11)\n",
            "    0.003273 | 'Tourist' (18)\n",
            "    0.003242 | 'Dark Shadows' (13)\n",
            "    0.003225 | 'Transcendence' (14)\n",
            "\n",
            "  Centrality | '{'m-Brad Pitt', 'm-George Clooney'}'\n",
            "    0.015895 | 'Ocean's 12' (10)\n",
            "    0.015313 | 'Burn After Reading' (11)\n",
            "    0.015150 | 'Ocean's 13' (14)\n",
            "    0.011585 | 'Ocean's 11' (10)\n",
            "    0.010794 | 'Leatherheads' (14)\n",
            "    0.010566 | 'Hail, Caesar!' (16)\n",
            "    0.010421 | 'Tomorrowland' (11)\n",
            "    0.009908 | 'Gravity' (14)\n",
            "    0.009073 | 'Monuments Men' (17)\n",
            "    0.007736 | 'Interview with the Vampire' (11)\n",
            "    0.007004 | 'Fight Club' (10)\n",
            "    0.006980 | 'Se7en' (12)\n",
            "    0.006888 | 'Babel' (20)\n",
            "    0.006740 | 'Allied' (11)\n",
            "    0.006732 | 'Meet Joe Black' (12)\n",
            "\n"
          ]
        }
      ],
      "source": [
        "conjunctive_queries = [\n",
        "    {\"m-Drama\", \"m-Tom Hanks\"},\n",
        "    {\"m-Action\", \"m-Adventure\", \"m-Johnny Depp\"},\n",
        "    {\"m-Brad Pitt\", \"m-George Clooney\"}\n",
        "]\n",
        "\n",
        "for M in conjunctive_queries:\n",
        "    # each mode-node is a candidate teleport target (with equal probability)\n",
        "    utils.top_nodes(G, utils.pagerank(G, teleport = {utils.find_node(G, m) for m in M}), str(M))"
      ]
    },
    {
      "cell_type": "markdown",
      "id": "18e9ad05",
      "metadata": {
        "id": "18e9ad05"
      },
      "source": [
        "5. **(discuss)** Examples above include only *positive* queries by measuring similarity between the movies and selected modes. But how could handle also *negative* queries such as, e.g., you do not like romantic movies or a particular actor?"
      ]
    },
    {
      "cell_type": "markdown",
      "id": "59bef39a",
      "metadata": {
        "id": "59bef39a"
      },
      "source": [
        "For *hard* negatives, we could simply skip unwanted query results. For *soft* negatives, we could do a separate run of personalized PageRank for undesired modes, and subtract these scores from the ones obtained for desired modes.\n",
        "\n",
        "Similarly, for *disjunctive* quieries (eg. *either* Tom Hanks *or* Bradd Pitt), we could do a separate run for each query term and take the *maximum* score."
      ]
    }
  ],
  "metadata": {
    "kernelspec": {
      "display_name": "Python 3",
      "language": "python",
      "name": "python3"
    },
    "language_info": {
      "codemirror_mode": {
        "name": "ipython",
        "version": 3
      },
      "file_extension": ".py",
      "mimetype": "text/x-python",
      "name": "python",
      "nbconvert_exporter": "python",
      "pygments_lexer": "ipython3",
      "version": "3.10.5"
    },
    "colab": {
      "provenance": []
    }
  },
  "nbformat": 4,
  "nbformat_minor": 5
}