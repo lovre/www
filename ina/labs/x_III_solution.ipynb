{
  "cells": [
    {
      "cell_type": "markdown",
      "id": "9f2691ae",
      "metadata": {
        "id": "9f2691ae"
      },
      "source": [
        "###### Introduction to Network Analysis 2023/24 (x)\n",
        "\n",
        "## Node mixing by (not) degree, graphlet degrees"
      ]
    },
    {
      "cell_type": "markdown",
      "id": "220d7921",
      "metadata": {
        "id": "220d7921"
      },
      "source": [
        "### III. Node mixing by _not_ degree\n",
        "\n"
      ]
    },
    {
      "cell_type": "code",
      "execution_count": null,
      "id": "ca455708",
      "metadata": {
        "id": "ca455708"
      },
      "outputs": [],
      "source": [
        "import networkx as nx\n",
        "import utils"
      ]
    },
    {
      "cell_type": "markdown",
      "id": "d01759b6",
      "metadata": {
        "id": "d01759b6"
      },
      "source": [
        "1. **(homework)** Study node mixing in networks by some property _other_ than node degree $k$. This can be either some structural property of nodes (e.g., node clustering coefficient $C$ or $C^\\mu$) or external information associated with each node (e.g., sociological partitioning of nodes in social network or traffic loads in highway networks)."
      ]
    },
    {
      "cell_type": "code",
      "execution_count": null,
      "id": "88f5f4f0",
      "metadata": {
        "id": "88f5f4f0"
      },
      "outputs": [],
      "source": [
        "def fvalue_parser(label, value):\n",
        "\tmdata = {\"label\": label}\n",
        "\tif value is not None and len(value.strip()) > 0:\n",
        "\t\tmdata[\"value\"] = float(value)\n",
        "\telse:\n",
        "\t\tmdata[\"value\"] = 0\n",
        "\n",
        "\treturn mdata"
      ]
    },
    {
      "cell_type": "code",
      "execution_count": null,
      "id": "a981d0ac",
      "metadata": {
        "id": "a981d0ac",
        "outputId": "fb694778-dbc3-4db0-8cb7-a69433cc865e"
      },
      "outputs": [
        {
          "name": "stdout",
          "output_type": "stream",
          "text": [
            "                Graph |  r(d)    r(n)  \n",
            "        'karate_club' |  0.743   0.743 \n",
            "     'southern_women' | -0.603  -0.829 \n",
            "           'cdn_java' |  0.272   0.570 \n",
            "           'cdn_jung' |  0.456   0.567 \n",
            "          'wikileaks' |  0.834   0.764 \n",
            "           'highways' |  0.112   0.600 \n",
            "\n"
          ]
        }
      ],
      "source": [
        "print(\"{:>21s} | {:^7s} {:^7s}\".format('Graph', 'r(d)', 'r(n)'))\n",
        "\n",
        "for name in [\"karate_club\", \"southern_women\", \"cdn_java\", \"cdn_jung\", \"wikileaks\", \"highways\"]:\n",
        "    G = utils.read_pajek(name, label_parser=fvalue_parser)\n",
        "    rd = nx.attribute_assortativity_coefficient(G, 'value')\n",
        "    rn = nx.numeric_assortativity_coefficient(G, 'value')\n",
        "\n",
        "    print(\"{:>21s} | {:^7.3f} {:^7.3f}\".format(\"'\" + G.name + \"'\", rd, rn))\n",
        "print()\n"
      ]
    },
    {
      "cell_type": "markdown",
      "id": "53f9b67d",
      "metadata": {
        "id": "53f9b67d"
      },
      "source": [
        "In example above we are testing out the asortitivity/disassortitivity of the value attribute of our nodes. In example of karate_club, each node has label of 1 or 2, depending on which karate club people started attending after the original club split. In this way we will determinate how likely the trainees from club 1 are connected to people from club 1 or 2 and vice versa.\n",
        "\n",
        "|    Graph        |  r(d)   |   r(n)   |\n",
        "| ----------------| ------- | -------- |\n",
        "|'karate_club'    |  0.743   |  0.743  |\n",
        "|'southern_women' | -0.603   | -0.829  |\n",
        "|'cdn_java'       |  0.272   |  0.570  |\n",
        "|'cdn_jung'       |  0.456   |  0.567  |\n",
        "|'wikileaks'      |  0.834   |  0.764  |\n",
        "|'highways'       |  0.112   |  0.600  |"
      ]
    }
  ],
  "metadata": {
    "kernelspec": {
      "display_name": "Python 3",
      "language": "python",
      "name": "python3"
    },
    "language_info": {
      "codemirror_mode": {
        "name": "ipython",
        "version": 3
      },
      "file_extension": ".py",
      "mimetype": "text/x-python",
      "name": "python",
      "nbconvert_exporter": "python",
      "pygments_lexer": "ipython3",
      "version": "3.10.5"
    },
    "colab": {
      "provenance": []
    }
  },
  "nbformat": 4,
  "nbformat_minor": 5
}