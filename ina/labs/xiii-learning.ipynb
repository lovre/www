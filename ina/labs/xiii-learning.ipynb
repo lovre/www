{
 "cells": [
  {
   "cell_type": "markdown",
   "id": "d32fb729",
   "metadata": {},
   "source": [
    "### Introduction to Network Analysis 2024/25 (xiii)"
   ]
  },
  {
   "cell_type": "markdown",
   "id": "d1157696",
   "metadata": {},
   "source": [
    "# Node classification and link prediction"
   ]
  },
  {
   "cell_type": "markdown",
   "id": "6bfa2fc1",
   "metadata": {},
   "source": [
    "You are given six real networks with class information associated with each node.\n",
    "\n",
    "+ Zachary karate club network with 2 clubs ([karate_club.net](http://lovro.fri.uni-lj.si/ina/nets/karate_club.net))\n",
    "+ Davis southern women network with 3 groups ([southern_women.net](http://lovro.fri.uni-lj.si/ina/nets/southern_women.net))\n",
    "+ US college football network with 12 conferences ([american_football.net](http://lovro.fri.uni-lj.si/ina/nets/american_football.net))\n",
    "+ Computer scientists collaboration network with 8 fields ([sicris_collaboration.net](http://lovro.fri.uni-lj.si/ina/nets/sicris_collaboration.net))\n",
    "+ Java class dependency network with 54 packages ([cdn_java.net](http://lovro.fri.uni-lj.si/ina/nets/cdn_java.net))\n",
    "+ Norwegian directors collaboration network with 2 genders ([board_directors.net](http://lovro.fri.uni-lj.si/ina/nets/board_directors.net))\n",
    "\n",
    "In the following exercises, you will evaluate node classification and link prediction using either node or edge features or their embeddings. For this, you can use a machine learning library such as [scikit-learn](https://scikit-learn.org/stable/) that contains implementations of popular classifiers. Another way is to generate a tab-separated file for each exercise with nodes or edges in rows and features or embeddings in columns, and upload the file to the [Orange](https://orangedatamining.com) data mining software."
   ]
  },
  {
   "cell_type": "markdown",
   "id": "6e5b7cae",
   "metadata": {},
   "source": [
    "### I. Node classification with features\n",
    "\n",
    "1. **(code)** Consider different features of nodes you can compute from network structure. These include measures of node centrality, link analysis algorithms, graphlet orbit counts, node community affiliation, stochastic block models, ego-network analysis etc. Train a machine learning classifier on selected node features and evaluate its performance using some standard measure."
   ]
  },
  {
   "cell_type": "code",
   "execution_count": 1,
   "id": "e97963d8",
   "metadata": {},
   "outputs": [],
   "source": [
    "# your code here"
   ]
  },
  {
   "cell_type": "markdown",
   "id": "be6fc77d",
   "metadata": {},
   "source": [
    "2. **(discuss)** How well can you classify the nodes by using their network-based features? Is the performance sufficient for practical applications? Which features are most informative for each network?"
   ]
  },
  {
   "cell_type": "markdown",
   "id": "a2e7e13b",
   "metadata": {},
   "source": [
    "### II. Node classification with embeddings\n",
    "\n",
    "1. **(code)** Consider the [node2vec](https://github.com/eliorc/node2vec) algorithm for computing low-dimensional node embeddings using biased random walks. Since the networks are relatively small, you might consider reducing the number of dimensions to $\\leq 32$ and also adjust some other default parameters (e.g., number and length of random walks, random walk biases). Train a machine learning classifier on generated node embeddings and evaluate its performance using some standard measure. (*Note that the implementation works correctly only if node identifiers are strings.*)\n",
    "\n",
    "\t![node2vec](https://lovro.fri.uni-lj.si/ina/misc/node2vec.png)"
   ]
  },
  {
   "cell_type": "code",
   "execution_count": 1,
   "id": "52f41044",
   "metadata": {},
   "outputs": [],
   "source": [
    "# your code here"
   ]
  },
  {
   "cell_type": "markdown",
   "id": "133171b5",
   "metadata": {},
   "source": [
    "2. **(discuss)** How well can you classify the nodes by using their network-based embeddings? Is the performance sufficient for practical applications? How does the performance compare to using only network-based features?"
   ]
  },
  {
   "cell_type": "markdown",
   "id": "d3d7a1b1",
   "metadata": {},
   "source": [
    "### III. Link prediction with features\n",
    "\n",
    "1. **(code)** Consider different features of pairs of nodes (either connected or not) that you can compute from the network structure. These include link prediction indices, node distances, structural equivalence or topological overlap, node community co-affiliation, stochastic block models, etc. Train a machine learning classifier on selected features and evaluate its performance using some standard measure. (*Make sure to compute node features from a network with test links removed.*)"
   ]
  },
  {
   "cell_type": "code",
   "execution_count": 1,
   "id": "da7bb10b",
   "metadata": {},
   "outputs": [],
   "source": [
    "# your code here"
   ]
  },
  {
   "cell_type": "markdown",
   "id": "ad102872",
   "metadata": {},
   "source": [
    "2. **(discuss)** How well can you predict the links by using network-based features of pairs of nodes? Is the performance sufficient for practical applications? Which features are most informative for each network?"
   ]
  },
  {
   "cell_type": "markdown",
   "id": "0b5190fc",
   "metadata": {},
   "source": [
    "### IV. Link prediction with embeddings\n",
    "\n",
    "1. **(code)** Consider the [node2vec](https://github.com/eliorc/node2vec) package for computing low-dimensional embeddings of pairs of nodes (either connected or not) using biased random walks. These can be defined as a concatenation or some aggregation of embeddings of individual nodes (e.g., element-wise average or multiplication). Train a machine learning classifier on generated embeddings and evaluate its performance using some standard measure. (*Make sure to compute node embeddings from a network with test links removed.*)"
   ]
  },
  {
   "cell_type": "code",
   "execution_count": null,
   "id": "3f8091d9",
   "metadata": {},
   "outputs": [],
   "source": [
    "# your code here"
   ]
  },
  {
   "cell_type": "markdown",
   "id": "4af801ba",
   "metadata": {},
   "source": [
    "2. **(discuss)** How well can you predict the links by using network-based embeddings of pairs of nodes? Is the performance sufficient for practical applications? How does the performance compare to using only network-based features?"
   ]
  }
 ],
 "metadata": {
  "kernelspec": {
   "display_name": "Python 3 (ipykernel)",
   "language": "python",
   "name": "python3"
  },
  "language_info": {
   "codemirror_mode": {
    "name": "ipython",
    "version": 3
   },
   "file_extension": ".py",
   "mimetype": "text/x-python",
   "name": "python",
   "nbconvert_exporter": "python",
   "pygments_lexer": "ipython3",
   "version": "3.7.3"
  }
 },
 "nbformat": 4,
 "nbformat_minor": 5
}
