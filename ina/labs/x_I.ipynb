{
  "cells": [
    {
      "cell_type": "markdown",
      "id": "827bf5f8",
      "metadata": {
        "id": "827bf5f8"
      },
      "source": [
        "###### Introduction to Network Analysis 2023/24 (x)\n",
        "\n",
        "## Node mixing by (not) degree, graphlet degrees"
      ]
    },
    {
      "cell_type": "markdown",
      "id": "1950491d",
      "metadata": {
        "id": "1950491d"
      },
      "source": [
        "### I. Degree assortative and disassortative networks\n",
        "\n",
        "Consider the following eight networks of different type and origin.\n",
        "\n",
        "+ Zachary karate club network ([karate_club.net](http://lovro.fri.uni-lj.si/ina/nets/karate_club.net))\n",
        "+ Java class dependency network ([java.net](http://lovro.fri.uni-lj.si/ina/nets/java.net))\n",
        "+ Map of Darknet from Tor network ([darknet.net](http://lovro.fri.uni-lj.si/ina/nets/darknet.net))\n",
        "+ Social network of unknown origin ([social.net](http://lovro.fri.uni-lj.si/ina/nets/social.net))\n",
        "+ iMDB actors collaboration network ([collaboration_imdb.net](http://lovro.fri.uni-lj.si/ina/nets/collaboration_imdb.net))\n",
        "+ Gnutella peer-to-peer sharing network ([gnutella.net](http://lovro.fri.uni-lj.si/ina/nets/gnutella.net))\n",
        "+ Sample of Facebook social network ([facebook.net](http://lovro.fri.uni-lj.si/ina/nets/facebook.net))\n",
        "+ *nec* overlay map of the Internet ([nec.net](http://lovro.fri.uni-lj.si/ina/nets/nec.net))\n",
        "\n"
      ]
    },
    {
      "cell_type": "markdown",
      "id": "552c599e",
      "metadata": {
        "id": "552c599e"
      },
      "source": [
        "1. **(code)** Implement Newman's node degree mixing coefficient $r$ as a sample Pearson correlation coefficient between the linked nodes' degrees $k$ and $k'$.\n",
        "\n",
        "\t$$r(k,k')=\\frac{\\sum_i(k_i-\\langle k\\rangle)(k'_i-\\langle k'\\rangle)}{\\sigma_k\\sigma_{k'}}$$\n",
        "\n",
        "\tTreat all networks as undirected graphs and compute their undirected degree mixing coefficient $r$. Are the networks assortative $r>0$, disassortative $r<0$ or neutral $r\\approx 0$?\n",
        "\n"
      ]
    },
    {
      "cell_type": "code",
      "execution_count": null,
      "id": "a04e1b64",
      "metadata": {
        "id": "a04e1b64"
      },
      "outputs": [],
      "source": [
        "# your code here"
      ]
    },
    {
      "cell_type": "markdown",
      "id": "9205c5f7",
      "metadata": {
        "id": "9205c5f7"
      },
      "source": [
        "2. **(code)** Generate corresponding Erd&ouml;s-R&eacute;nyi random graphs and compute their undirected degree mixing coefficient $r$. Are random graphs assortative $r>0$, disassortative $r<0$ or neutral $r\\approx 0$?\n",
        "\n"
      ]
    },
    {
      "cell_type": "code",
      "execution_count": null,
      "id": "96e116ba",
      "metadata": {
        "id": "96e116ba"
      },
      "outputs": [],
      "source": [
        "# your code here"
      ]
    },
    {
      "cell_type": "markdown",
      "id": "b2029bf0",
      "metadata": {
        "id": "b2029bf0"
      },
      "source": [
        "3. **(code)** For directed networks, compute all four directed degree mixing coefficients $r_{(in,in)}$, $r_{(in,out)}$, $r_{(out,in)}$ and $r_{(out,out)}$. Are the networks assortative $r_{\\cdot}>0$, disassortative $r_{\\cdot}<0$ or neutral $r_{\\cdot}\\approx 0$?"
      ]
    },
    {
      "cell_type": "code",
      "execution_count": null,
      "id": "40c6149b",
      "metadata": {
        "id": "40c6149b"
      },
      "outputs": [],
      "source": [
        "# your code here"
      ]
    }
  ],
  "metadata": {
    "colab": {
      "provenance": []
    }
  },
  "nbformat": 4,
  "nbformat_minor": 5
}