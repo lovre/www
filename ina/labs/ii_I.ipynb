{
 "cells": [
  {
   "cell_type": "markdown",
   "id": "4a9a4bfa",
   "metadata": {},
   "source": [
    "###### Introduction to Network Analysis 2023/24 (ii)\n",
    "\n",
    "## Network representations, basic network algorithms\n",
    "\n",
    "You are given four networks in Pajek format that was presented in lectures.\n",
    "\n",
    "+ Tiny toy network for testing ([toy.net](http://lovro.fri.uni-lj.si/ina/nets/toy.net))\n",
    "+ Zachary karate club network ([karate_club.net](http://lovro.fri.uni-lj.si/ina/nets/karate_club.net))\n",
    "+ iMDB actors collaboration network ([collaboration_imdb.net](http://lovro.fri.uni-lj.si/ina/nets/collaboration_imdb.net))\n",
    "+ A small part of Google web graph ([www_google.net](http://lovro.fri.uni-lj.si/ina/nets/www_google.net))"
   ]
  },
  {
   "cell_type": "markdown",
   "id": "d73c2a09",
   "metadata": {},
   "source": [
    "### I. Adjacency list representation\n",
    "\n"
   ]
  },
  {
   "cell_type": "markdown",
   "id": "bae0fae8",
   "metadata": {},
   "source": [
    "1. **(code)** Assume that all networks are undirected. Implement your own adjacency list representation of the networks as an array of lists and represent all four networks.\n",
    "\n"
   ]
  },
  {
   "cell_type": "code",
   "execution_count": null,
   "id": "711d00eb",
   "metadata": {},
   "outputs": [],
   "source": [
    "# your code here"
   ]
  },
  {
   "cell_type": "markdown",
   "id": "7e5c50c5",
   "metadata": {},
   "source": [
    "2. **(discuss)** Now, assume that all networks are directed. How would you extend your network representation?\n",
    "\n"
   ]
  },
  {
   "cell_type": "markdown",
   "id": "b079f58d",
   "metadata": {},
   "source": [
    "3. **(discuss)** Does your network representation allow for multiple links between the nodes, loops on nodes and isolated nodes?"
   ]
  }
 ],
 "metadata": {
  "kernelspec": {
   "display_name": "Python 3 (ipykernel)",
   "language": "python",
   "name": "python3"
  },
  "language_info": {
   "codemirror_mode": {
    "name": "ipython",
    "version": 3
   },
   "file_extension": ".py",
   "mimetype": "text/x-python",
   "name": "python",
   "nbconvert_exporter": "python",
   "pygments_lexer": "ipython3",
   "version": "3.7.3"
  }
 },
 "nbformat": 4,
 "nbformat_minor": 5
}
