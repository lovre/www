{
  "cells": [
    {
      "cell_type": "markdown",
      "id": "53a17e0a",
      "metadata": {
        "id": "53a17e0a"
      },
      "source": [
        "###### Introduction to Network Analysis 2023/24 (x)\n",
        "\n",
        "## Node mixing by (not) degree, graphlet degrees"
      ]
    },
    {
      "cell_type": "markdown",
      "id": "770846c6",
      "metadata": {
        "id": "770846c6"
      },
      "source": [
        "### III. Node mixing by _not_ degree\n",
        "\n"
      ]
    },
    {
      "cell_type": "markdown",
      "id": "dfb3f596",
      "metadata": {
        "id": "dfb3f596"
      },
      "source": [
        "1. **(homework)** Study node mixing in networks by some property _other_ than node degree $k$. This can be either some structural property of nodes (e.g., node clustering coefficient $C$ or $C^\\mu$) or external information associated with each node (e.g., sociological partitioning of nodes in social network or traffic loads in highway networks)."
      ]
    },
    {
      "cell_type": "code",
      "execution_count": null,
      "id": "c8a32c37",
      "metadata": {
        "id": "c8a32c37"
      },
      "outputs": [],
      "source": [
        "# your code here"
      ]
    }
  ],
  "metadata": {
    "colab": {
      "provenance": []
    }
  },
  "nbformat": 4,
  "nbformat_minor": 5
}