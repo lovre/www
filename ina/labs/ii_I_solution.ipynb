{
  "cells": [
    {
      "cell_type": "markdown",
      "metadata": {
        "collapsed": false,
        "id": "xIGP6Sz6zjdg"
      },
      "source": [
        "###### Introduction to Network Analysis 2023/24 (ii)\n",
        "\n",
        "## Network representations, basic network algorithms\n",
        "\n",
        "You are given four networks in Pajek format that was presented in lectures.\n",
        "\n",
        "+ Tiny toy network for testing ([toy.net](http://lovro.fri.uni-lj.si/ina/nets/toy.net))\n",
        "+ Zachary karate club network ([karate_club.net](http://lovro.fri.uni-lj.si/ina/nets/karate_club.net))\n",
        "+ IMDb actors collaboration network ([collaboration_imdb.net](http://lovro.fri.uni-lj.si/ina/nets/collaboration_imdb.net))\n",
        "+ A small part of Google web graph ([www_google.net](http://lovro.fri.uni-lj.si/ina/nets/www_google.net))"
      ]
    },
    {
      "cell_type": "markdown",
      "metadata": {
        "collapsed": false,
        "id": "dlXRr7RPzjdi"
      },
      "source": [
        "### I. Adjacency list representation"
      ]
    },
    {
      "cell_type": "markdown",
      "metadata": {
        "collapsed": false,
        "id": "XHI_zJSCzjdj"
      },
      "source": [
        "1. **(code)** Assume that all networks are undirected. Implement your own adjacency list representation of the networks as an array of lists and represent all four networks.\n"
      ]
    },
    {
      "cell_type": "markdown",
      "metadata": {
        "collapsed": false,
        "id": "GtVbyG8Ozjdj"
      },
      "source": [
        "#### 1. Solution with our implementation"
      ]
    },
    {
      "cell_type": "code",
      "execution_count": 16,
      "metadata": {
        "ExecuteTime": {
          "end_time": "2023-05-26T17:50:39.816288Z",
          "start_time": "2023-05-26T17:50:35.789734Z"
        },
        "colab": {
          "base_uri": "https://localhost:8080/"
        },
        "id": "6FDFPS19zjdk",
        "outputId": "6d58a9ae-2319-40d9-ff04-8497aaa391d4"
      },
      "outputs": [
        {
          "output_type": "stream",
          "name": "stdout",
          "text": [
            "Number of nodes in toy: 5\n",
            "Number of nodes in karate_club: 34\n",
            "Number of nodes in collaboration_imdb: 17,577\n",
            "Number of nodes in www_google: 875,713\n"
          ]
        }
      ],
      "source": [
        "# Begin iterating over a list of network names\n",
        "for name in [\"toy\", \"karate_club\", \"collaboration_imdb\", \"www_google\"]:\n",
        "\n",
        "    # For each network, we start with an empty graph G (which will later represent the graph as an adjacency list)\n",
        "    # and set the number of nodes, n, in the graph to be zero\n",
        "    G, n = None, 0\n",
        "\n",
        "    # Open the corresponding '.net' file for the current network\n",
        "    with open(\"./networks/\" + name + \".net\", 'r') as file:\n",
        "\n",
        "        # Read the first line of the file which contains the number of nodes\n",
        "        # Extract this number from the line, convert it to an integer, and store it in n\n",
        "        n = int(file.readline().split()[1])\n",
        "\n",
        "        # Now, initialize G to be a list of n empty lists\n",
        "        # Each of these empty lists will eventually contain the indices of the nodes adjacent to a given node\n",
        "        G = [[] for _ in range(n)]\n",
        "\n",
        "        # Continue reading lines from the file until we find a line that starts with \"*\"\n",
        "        # This marks the end of node information\n",
        "        for line in file:\n",
        "            if line.startswith(\"*\"):\n",
        "                break\n",
        "\n",
        "        # After the node information, the file contains edge information\n",
        "        # Each line in this section of the file contains two node indices, indicating an edge between these nodes\n",
        "\n",
        "        # So, we continue reading lines from the file\n",
        "        for line in file:\n",
        "            # For each line, we extract the first two numbers\n",
        "            # These are the indices of the nodes for the current edge\n",
        "            # Note that the indices in the file start at 1, but Python lists are 0-indexed\n",
        "            # So, we subtract 1 from these indices before storing them in i and j\n",
        "            i, j = (int(x) - 1 for x in line.split()[:2])\n",
        "\n",
        "            # Since this is an undirected graph, each edge goes both ways\n",
        "            # So, we add j to the adjacency list of node i and also add i to the adjacency list of node j\n",
        "            G[i].append(j)\n",
        "            G[j].append(i)\n",
        "\n",
        "    print(\"{:s} {:s}: {:,d}\".format('Number of nodes in', name, len(G)))"
      ]
    },
    {
      "cell_type": "markdown",
      "metadata": {
        "collapsed": false,
        "id": "KzzzsPBDzjdm"
      },
      "source": [
        "#### 1. Solution using NetworkX"
      ]
    },
    {
      "cell_type": "code",
      "execution_count": 17,
      "metadata": {
        "ExecuteTime": {
          "end_time": "2023-05-26T17:52:16.085512Z",
          "start_time": "2023-05-26T17:50:39.817836Z"
        },
        "colab": {
          "base_uri": "https://localhost:8080/"
        },
        "id": "gHeZbEklzjdn",
        "outputId": "346a7873-e399-4329-961d-7c21eb5d8657"
      },
      "outputs": [
        {
          "output_type": "stream",
          "name": "stdout",
          "text": [
            "Number of nodes in toy: 5\n",
            "Number of nodes in karate_club: 34\n",
            "Number of nodes in collaboration_imdb: 17,577\n",
            "Number of nodes in www_google: 875,713\n"
          ]
        }
      ],
      "source": [
        "import networkx as nx\n",
        "\n",
        "def read_and_convert_to_adj_list(file_url):\n",
        "    # The function nx.read_pajek reads the Pajek format file and creates a NetworkX\n",
        "    # graph from it. The graph is assigned to G.\n",
        "    G = nx.read_pajek(file_url)\n",
        "    # The function nx.to_dict_of_lists converts the graph G into a dictionary of lists\n",
        "    # that represents an adjacency list. The adjacency list is assigned to adj_list.\n",
        "    adj_list = nx.to_dict_of_lists(G)\n",
        "\n",
        "    return adj_list\n",
        "\n",
        "\n",
        "for name in [\"toy\", \"karate_club\", \"collaboration_imdb\", \"www_google\"]:\n",
        "    adj_list = read_and_convert_to_adj_list(\"./networks/\" + name + \".net\")\n",
        "    print(\"{:s} {:s}: {:,d}\".format('Number of nodes in', name, len(adj_list)))"
      ]
    },
    {
      "cell_type": "markdown",
      "metadata": {
        "collapsed": false,
        "id": "IJtDemtZzjdo"
      },
      "source": [
        "2. **(discuss)** Now, assume that all networks are directed. How would you extend your network representation?"
      ]
    },
    {
      "cell_type": "markdown",
      "metadata": {
        "collapsed": false,
        "id": "8ndh23H0zjdo"
      },
      "source": [
        "If the networks are directed, we can expand the representation to a dictionary of lists, where each node's value correspond to a pair of lists: one for the outgoing edges and one for the incoming edges. The nodes where there is an edge from the key node to that node would be included in the outgoing edges list, and the nodes where there is an edge from that node to the key node would be included in the incoming edges list."
      ]
    },
    {
      "cell_type": "markdown",
      "metadata": {
        "collapsed": false,
        "id": "kOkC0P0lzjdp"
      },
      "source": [
        "3. **(discuss)** Does your network representation allow for multiple links between the nodes, loops on nodes and isolated nodes?"
      ]
    },
    {
      "cell_type": "markdown",
      "metadata": {
        "collapsed": false,
        "id": "zxDTLvrmzjdp"
      },
      "source": [
        "Our network representation can indeed support multiple links between nodes, loops on nodes, and isolated nodes.\n",
        "\n",
        "- **Multiple links between the nodes**: In the given representation, there is no mechanism to prevent multiple edges between two nodes. If the graph contain multiple edges between the same nodes, the adjacency list will also contain duplicate entries. For example, if there are two edges between nodes 1 and 2, then G[1] will contain two entries of 2 and G[2] will contain two entries of 1.\n",
        "- **Loops on nodes**: We don't explicitly prevent self-loops (edges from a node to itself). If the graph contains a line where both node indices are the same, then the corresponding node in the adjacency list will have two entries pointing to itself.\n",
        "- **Isolated nodes**: Isolated nodes (nodes with no edges) are also supported by our representation. If a node has no edges in the graph, its corresponding sublist in the adjacency list will remain empty. For example, if node 3 has no edges, G[3] will be []."
      ]
    },
    {
      "cell_type": "code",
      "source": [],
      "metadata": {
        "id": "BTjhJV7kD71E"
      },
      "execution_count": 17,
      "outputs": []
    }
  ],
  "metadata": {
    "kernelspec": {
      "display_name": "Python 3",
      "language": "python",
      "name": "python3"
    },
    "language_info": {
      "codemirror_mode": {
        "name": "ipython",
        "version": 2
      },
      "file_extension": ".py",
      "mimetype": "text/x-python",
      "name": "python",
      "nbconvert_exporter": "python",
      "pygments_lexer": "ipython2",
      "version": "2.7.6"
    },
    "colab": {
      "provenance": []
    }
  },
  "nbformat": 4,
  "nbformat_minor": 0
}