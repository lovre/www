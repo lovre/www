{
 "cells": [
  {
   "cell_type": "markdown",
   "id": "65615002",
   "metadata": {},
   "source": [
    "###### Introduction to Network Analysis 2023/24 (xiii)\n",
    "\n",
    "## Pegs and bands, wiring diagrams vs block models"
   ]
  },
  {
   "cell_type": "markdown",
   "id": "ad102872",
   "metadata": {},
   "source": [
    "### II. Wiring diagrams vs block models\n",
    "\n",
    "You are given six real networks with less than $200$ nodes.\n",
    "\n",
    "+ Zachary karate club network ([karate_club.net](http://lovro.fri.uni-lj.si/ina/nets/karate_club.net))\n",
    "+ Davis southern women network ([southern_women.net](http://lovro.fri.uni-lj.si/ina/nets/southern_women.net))\n",
    "+ Lusseau bottlenose dolphins network ([dolphins.net](http://lovro.fri.uni-lj.si/ina/nets/dolphins.net))\n",
    "+ US college football network ([american_football.net](http://lovro.fri.uni-lj.si/ina/nets/american_football.net))\n",
    "+ Slovenian highways network from $2010$ ([highways.net](http://lovro.fri.uni-lj.si/ina/nets/highways.net))\n",
    "+ Little Rock Lake food web ([foodweb_littlerock.net](http://lovro.fri.uni-lj.si/ina/nets/foodweb_littlerock.net))\n",
    "\n"
   ]
  },
  {
   "cell_type": "markdown",
   "id": "0b5190fc",
   "metadata": {},
   "source": [
    "1. **(code)** Browse your network library for implementations of network layout algorithms and methods for network visualization. Try to clearly visualize the networks with a wiring diagram produced by different layout algorithms. You can use node sizes to show their centrality and node colors to show network community, core-periphery or other structure.\n",
    "\n"
   ]
  },
  {
   "cell_type": "code",
   "execution_count": null,
   "id": "3f8091d9",
   "metadata": {},
   "outputs": [],
   "source": [
    "# your code here"
   ]
  },
  {
   "cell_type": "markdown",
   "id": "4af801ba",
   "metadata": {},
   "source": [
    "2. **(code)** Visualize the networks also with a block model, where you plot the network adjacency matrix with nodes order according to their clustering affiliation (e.g., community structure)."
   ]
  },
  {
   "cell_type": "code",
   "execution_count": null,
   "id": "5e48da31",
   "metadata": {},
   "outputs": [],
   "source": [
    "# your code here"
   ]
  }
 ],
 "metadata": {
  "kernelspec": {
   "name": "python3",
   "language": "python",
   "display_name": "Python 3 (ipykernel)"
  }
 },
 "nbformat": 4,
 "nbformat_minor": 5
}
